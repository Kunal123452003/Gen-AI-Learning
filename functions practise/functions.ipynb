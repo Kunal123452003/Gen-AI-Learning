{
 "cells": [
  {
   "cell_type": "code",
   "execution_count": 1,
   "id": "cd279fb8",
   "metadata": {},
   "outputs": [
    {
     "name": "stdout",
     "output_type": "stream",
     "text": [
      "Hello Kunal\n",
      "Hello No name\n"
     ]
    }
   ],
   "source": [
    "\"\"\" Normal Functions \"\"\"\n",
    "def name(name=\"No name\"):\n",
    "    print(f\"Hello {name}\")\n",
    "\n",
    "name(\"Kunal\")\n",
    "name()"
   ]
  },
  {
   "cell_type": "code",
   "execution_count": 2,
   "id": "def7c57b",
   "metadata": {},
   "outputs": [
    {
     "name": "stdout",
     "output_type": "stream",
     "text": [
      "Sum is 10\n"
     ]
    }
   ],
   "source": [
    "\"\"\" Positional Arguments \"\"\"\n",
    "def add(a, b, c, d):\n",
    "    print(f\"Sum is {a + b + c + d}\")\n",
    "add(1, 2, 3, 4)"
   ]
  },
  {
   "cell_type": "code",
   "execution_count": 3,
   "id": "cabe1ac2",
   "metadata": {},
   "outputs": [
    {
     "name": "stdout",
     "output_type": "stream",
     "text": [
      "Sum is 150\n"
     ]
    }
   ],
   "source": [
    "\"\"\" Positional Arguments using *args \"\"\"\n",
    "def add(*args):\n",
    "    total = 0\n",
    "    for num in args:\n",
    "        total += num\n",
    "    print(f\"Sum is {total}\")\n",
    "\n",
    "add(1,2,3,4,56,6,78,0)"
   ]
  },
  {
   "cell_type": "code",
   "execution_count": 5,
   "id": "2673d967",
   "metadata": {},
   "outputs": [
    {
     "name": "stdout",
     "output_type": "stream",
     "text": [
      "name = Kunal\n",
      "age = 5\n",
      "city = Delhi\n"
     ]
    }
   ],
   "source": [
    "\"\"\" keyword arguments using **kwargs \"\"\"\n",
    "# **kwargs = *args + keyword arguments\n",
    "def print_info(**kwargs):\n",
    "    for key, val in kwargs.items():\n",
    "        print(f\"{key} = {val}\")\n",
    "\n",
    "print_info(name=\"Kunal\", age=5, city=\"Delhi\")"
   ]
  },
  {
   "cell_type": "code",
   "execution_count": 6,
   "id": "edb8a8f6",
   "metadata": {},
   "outputs": [
    {
     "name": "stdout",
     "output_type": "stream",
     "text": [
      "25\n",
      "25\n"
     ]
    }
   ],
   "source": [
    "# lambda function\n",
    "# normal function is defined using def keyword\n",
    "def square(x):\n",
    "    return x * x\n",
    "print(square(5))\n",
    "\n",
    "# lambda function is defined using lambda keyword\n",
    "square_lamda = lambda x: x * x\n",
    "print(square_lamda(5))\n"
   ]
  },
  {
   "cell_type": "code",
   "execution_count": null,
   "id": "60c86405",
   "metadata": {},
   "outputs": [
    {
     "data": {
      "text/plain": [
       "[5, 12, 21, 32]"
      ]
     },
     "execution_count": 12,
     "metadata": {},
     "output_type": "execute_result"
    }
   ],
   "source": [
    "# using lambda function with map\n",
    "list(map(lambda x: x *x, [1,2,3,4,5]))  # it is used to apply a function to all items in an iterable\n",
    "\n",
    "# mulitple items in map\n",
    "nums1 = [1, 2, 3, 4]\n",
    "nums2 = [5, 6, 7, 8]\n",
    "list(map(lambda x,y: x * y, nums1,nums2)) "
   ]
  },
  {
   "cell_type": "code",
   "execution_count": null,
   "id": "d9f8908f",
   "metadata": {},
   "outputs": [],
   "source": []
  }
 ],
 "metadata": {
  "kernelspec": {
   "display_name": "base",
   "language": "python",
   "name": "python3"
  },
  "language_info": {
   "codemirror_mode": {
    "name": "ipython",
    "version": 3
   },
   "file_extension": ".py",
   "mimetype": "text/x-python",
   "name": "python",
   "nbconvert_exporter": "python",
   "pygments_lexer": "ipython3",
   "version": "3.12.7"
  }
 },
 "nbformat": 4,
 "nbformat_minor": 5
}
