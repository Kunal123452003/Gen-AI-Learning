{
 "cells": [
  {
   "cell_type": "code",
   "execution_count": 32,
   "id": "86812e11",
   "metadata": {},
   "outputs": [],
   "source": [
    "from tensorflow.keras.preprocessing.text import one_hot"
   ]
  },
  {
   "cell_type": "code",
   "execution_count": 33,
   "id": "cf06bb9e",
   "metadata": {},
   "outputs": [],
   "source": [
    "sentences = [\n",
    "    \"The quick brown fox jumps over the lazy dog.\",\n",
    "    \"Artificial intelligence is transforming the world.\",\n",
    "    \"ChatGPT is a powerful language model developed by OpenAI.\",\n",
    "    \"Data science involves statistics, programming, and domain expertise.\",\n",
    "    \"The weather today is sunny with a chance of rain in the evening.\",\n",
    "    \"He bought a new laptop for his machine learning project.\",\n",
    "    \"Natural language processing enables machines to understand human language.\",\n",
    "    \"The stock market showed a significant drop yesterday.\",\n",
    "    \"Python is a versatile programming language used in many fields.\",\n",
    "    \"She traveled to Japan to experience the cherry blossom season.\"\n",
    "]\n"
   ]
  },
  {
   "cell_type": "code",
   "execution_count": null,
   "id": "8c318f79",
   "metadata": {},
   "outputs": [],
   "source": []
  },
  {
   "cell_type": "code",
   "execution_count": 70,
   "id": "6f7a969d",
   "metadata": {},
   "outputs": [],
   "source": [
    "voc_size = 10000  # Size of the vocabulary"
   ]
  },
  {
   "cell_type": "code",
   "execution_count": 71,
   "id": "a3a97c31",
   "metadata": {},
   "outputs": [],
   "source": [
    "## One-Hot Representation"
   ]
  },
  {
   "cell_type": "code",
   "execution_count": 72,
   "id": "56438910",
   "metadata": {},
   "outputs": [],
   "source": [
    "## one hot representation\n",
    "one_hot_repre = [ one_hot(words, voc_size) for words in sentences ]"
   ]
  },
  {
   "cell_type": "code",
   "execution_count": 73,
   "id": "efbf4044",
   "metadata": {},
   "outputs": [
    {
     "data": {
      "text/plain": [
       "[[211, 478, 953, 2729, 8382, 9369, 211, 6140, 7289],\n",
       " [3466, 6168, 5239, 6915, 211, 3016],\n",
       " [5589, 5239, 2300, 3288, 2945, 5792, 4006, 7036, 5637],\n",
       " [4034, 834, 2745, 2321, 8262, 9339, 2163, 7598],\n",
       " [211, 1202, 8400, 5239, 6369, 2488, 2300, 6522, 56, 5444, 51, 211, 3975],\n",
       " [5916, 5172, 2300, 53, 6895, 2386, 2087, 9539, 3537, 8921],\n",
       " [27, 2945, 9059, 4263, 592, 2705, 9349, 922, 2945],\n",
       " [211, 1084, 5453, 3748, 2300, 1596, 2392, 4804],\n",
       " [332, 5239, 2300, 7018, 8262, 2945, 9287, 51, 8571, 4964],\n",
       " [8961, 7143, 2705, 7670, 2705, 3223, 211, 4134, 5712, 3232]]"
      ]
     },
     "execution_count": 73,
     "metadata": {},
     "output_type": "execute_result"
    }
   ],
   "source": [
    "one_hot_repre"
   ]
  },
  {
   "cell_type": "code",
   "execution_count": 74,
   "id": "6c4f6d7e",
   "metadata": {},
   "outputs": [],
   "source": [
    "# Word embedding representation\n",
    "import tensorflow as tf\n",
    "from tensorflow import keras\n",
    "from tensorflow.keras.layers import Embedding\n",
    "from tensorflow.keras.utils import pad_sequences\n",
    "from tensorflow.keras.models import Sequential\n"
   ]
  },
  {
   "cell_type": "code",
   "execution_count": 75,
   "id": "fea7141f",
   "metadata": {},
   "outputs": [],
   "source": [
    "import numpy as np"
   ]
  },
  {
   "cell_type": "code",
   "execution_count": 76,
   "id": "f6fdea63",
   "metadata": {},
   "outputs": [],
   "source": [
    "## Padding sequences"
   ]
  },
  {
   "cell_type": "code",
   "execution_count": 77,
   "id": "1358ff6c",
   "metadata": {},
   "outputs": [
    {
     "data": {
      "text/plain": [
       "array([[   0,    0,    0,    0,  211,  478,  953, 2729, 8382, 9369,  211,\n",
       "        6140, 7289],\n",
       "       [   0,    0,    0,    0,    0,    0,    0, 3466, 6168, 5239, 6915,\n",
       "         211, 3016],\n",
       "       [   0,    0,    0,    0, 5589, 5239, 2300, 3288, 2945, 5792, 4006,\n",
       "        7036, 5637],\n",
       "       [   0,    0,    0,    0,    0, 4034,  834, 2745, 2321, 8262, 9339,\n",
       "        2163, 7598],\n",
       "       [ 211, 1202, 8400, 5239, 6369, 2488, 2300, 6522,   56, 5444,   51,\n",
       "         211, 3975],\n",
       "       [   0,    0,    0, 5916, 5172, 2300,   53, 6895, 2386, 2087, 9539,\n",
       "        3537, 8921],\n",
       "       [   0,    0,    0,    0,   27, 2945, 9059, 4263,  592, 2705, 9349,\n",
       "         922, 2945],\n",
       "       [   0,    0,    0,    0,    0,  211, 1084, 5453, 3748, 2300, 1596,\n",
       "        2392, 4804],\n",
       "       [   0,    0,    0,  332, 5239, 2300, 7018, 8262, 2945, 9287,   51,\n",
       "        8571, 4964],\n",
       "       [   0,    0,    0, 8961, 7143, 2705, 7670, 2705, 3223,  211, 4134,\n",
       "        5712, 3232]])"
      ]
     },
     "execution_count": 77,
     "metadata": {},
     "output_type": "execute_result"
    }
   ],
   "source": [
    "sen_length = 13 # Maximum length of sentences\n",
    "embedded_docs = pad_sequences(one_hot_repre, padding = \"pre\", maxlen=sen_length)   # pre padding means padding at the beginning of the sequence\n",
    "embedded_docs"
   ]
  },
  {
   "cell_type": "code",
   "execution_count": 78,
   "id": "2bbb1268",
   "metadata": {},
   "outputs": [],
   "source": [
    "## model creation"
   ]
  },
  {
   "cell_type": "code",
   "execution_count": 79,
   "id": "516e9032",
   "metadata": {},
   "outputs": [],
   "source": [
    "## feature representation\n",
    "dim = 14 # Dimension of the embedding vector"
   ]
  },
  {
   "cell_type": "code",
   "execution_count": 80,
   "id": "9f7d4210",
   "metadata": {},
   "outputs": [],
   "source": [
    "model = Sequential()\n",
    "# not working until forcefully create the model OR train the model then the model.summary won't be a blank---> # model.add(Embedding(voc_size, dim, input_length=sen_length))  # voc_size is the size of the vocabulary, dim is the dimension of the embedding vector, and sen_length is the length of the input sequences\n",
    "model.add(Embedding(input_dim=voc_size, output_dim=dim))\n",
    "model.build(input_shape=(None, sen_length)) # Build the model with the specified input shape\n",
    "model.compile(\"adam\",\"mse\")  # Compile the model with Adam optimizer and mean squared error loss"
   ]
  },
  {
   "cell_type": "code",
   "execution_count": 81,
   "id": "8712d31c",
   "metadata": {},
   "outputs": [
    {
     "data": {
      "text/html": [
       "<pre style=\"white-space:pre;overflow-x:auto;line-height:normal;font-family:Menlo,'DejaVu Sans Mono',consolas,'Courier New',monospace\"><span style=\"font-weight: bold\">Model: \"sequential_13\"</span>\n",
       "</pre>\n"
      ],
      "text/plain": [
       "\u001b[1mModel: \"sequential_13\"\u001b[0m\n"
      ]
     },
     "metadata": {},
     "output_type": "display_data"
    },
    {
     "data": {
      "text/html": [
       "<pre style=\"white-space:pre;overflow-x:auto;line-height:normal;font-family:Menlo,'DejaVu Sans Mono',consolas,'Courier New',monospace\">┏━━━━━━━━━━━━━━━━━━━━━━━━━━━━━━━━━┳━━━━━━━━━━━━━━━━━━━━━━━━┳━━━━━━━━━━━━━━━┓\n",
       "┃<span style=\"font-weight: bold\"> Layer (type)                    </span>┃<span style=\"font-weight: bold\"> Output Shape           </span>┃<span style=\"font-weight: bold\">       Param # </span>┃\n",
       "┡━━━━━━━━━━━━━━━━━━━━━━━━━━━━━━━━━╇━━━━━━━━━━━━━━━━━━━━━━━━╇━━━━━━━━━━━━━━━┩\n",
       "│ embedding_11 (<span style=\"color: #0087ff; text-decoration-color: #0087ff\">Embedding</span>)        │ (<span style=\"color: #00d7ff; text-decoration-color: #00d7ff\">None</span>, <span style=\"color: #00af00; text-decoration-color: #00af00\">13</span>, <span style=\"color: #00af00; text-decoration-color: #00af00\">14</span>)         │       <span style=\"color: #00af00; text-decoration-color: #00af00\">140,000</span> │\n",
       "└─────────────────────────────────┴────────────────────────┴───────────────┘\n",
       "</pre>\n"
      ],
      "text/plain": [
       "┏━━━━━━━━━━━━━━━━━━━━━━━━━━━━━━━━━┳━━━━━━━━━━━━━━━━━━━━━━━━┳━━━━━━━━━━━━━━━┓\n",
       "┃\u001b[1m \u001b[0m\u001b[1mLayer (type)                   \u001b[0m\u001b[1m \u001b[0m┃\u001b[1m \u001b[0m\u001b[1mOutput Shape          \u001b[0m\u001b[1m \u001b[0m┃\u001b[1m \u001b[0m\u001b[1m      Param #\u001b[0m\u001b[1m \u001b[0m┃\n",
       "┡━━━━━━━━━━━━━━━━━━━━━━━━━━━━━━━━━╇━━━━━━━━━━━━━━━━━━━━━━━━╇━━━━━━━━━━━━━━━┩\n",
       "│ embedding_11 (\u001b[38;5;33mEmbedding\u001b[0m)        │ (\u001b[38;5;45mNone\u001b[0m, \u001b[38;5;34m13\u001b[0m, \u001b[38;5;34m14\u001b[0m)         │       \u001b[38;5;34m140,000\u001b[0m │\n",
       "└─────────────────────────────────┴────────────────────────┴───────────────┘\n"
      ]
     },
     "metadata": {},
     "output_type": "display_data"
    },
    {
     "data": {
      "text/html": [
       "<pre style=\"white-space:pre;overflow-x:auto;line-height:normal;font-family:Menlo,'DejaVu Sans Mono',consolas,'Courier New',monospace\"><span style=\"font-weight: bold\"> Total params: </span><span style=\"color: #00af00; text-decoration-color: #00af00\">140,000</span> (546.88 KB)\n",
       "</pre>\n"
      ],
      "text/plain": [
       "\u001b[1m Total params: \u001b[0m\u001b[38;5;34m140,000\u001b[0m (546.88 KB)\n"
      ]
     },
     "metadata": {},
     "output_type": "display_data"
    },
    {
     "data": {
      "text/html": [
       "<pre style=\"white-space:pre;overflow-x:auto;line-height:normal;font-family:Menlo,'DejaVu Sans Mono',consolas,'Courier New',monospace\"><span style=\"font-weight: bold\"> Trainable params: </span><span style=\"color: #00af00; text-decoration-color: #00af00\">140,000</span> (546.88 KB)\n",
       "</pre>\n"
      ],
      "text/plain": [
       "\u001b[1m Trainable params: \u001b[0m\u001b[38;5;34m140,000\u001b[0m (546.88 KB)\n"
      ]
     },
     "metadata": {},
     "output_type": "display_data"
    },
    {
     "data": {
      "text/html": [
       "<pre style=\"white-space:pre;overflow-x:auto;line-height:normal;font-family:Menlo,'DejaVu Sans Mono',consolas,'Courier New',monospace\"><span style=\"font-weight: bold\"> Non-trainable params: </span><span style=\"color: #00af00; text-decoration-color: #00af00\">0</span> (0.00 B)\n",
       "</pre>\n"
      ],
      "text/plain": [
       "\u001b[1m Non-trainable params: \u001b[0m\u001b[38;5;34m0\u001b[0m (0.00 B)\n"
      ]
     },
     "metadata": {},
     "output_type": "display_data"
    }
   ],
   "source": [
    "model.summary()"
   ]
  },
  {
   "cell_type": "code",
   "execution_count": 82,
   "id": "a6307c63",
   "metadata": {},
   "outputs": [
    {
     "name": "stdout",
     "output_type": "stream",
     "text": [
      "\u001b[1m1/1\u001b[0m \u001b[32m━━━━━━━━━━━━━━━━━━━━\u001b[0m\u001b[37m\u001b[0m \u001b[1m0s\u001b[0m 80ms/step\n"
     ]
    },
    {
     "data": {
      "text/plain": [
       "array([[[ 0.01264298,  0.00163507,  0.02676156, ..., -0.00608696,\n",
       "          0.04610664,  0.03211799],\n",
       "        [ 0.01264298,  0.00163507,  0.02676156, ..., -0.00608696,\n",
       "          0.04610664,  0.03211799],\n",
       "        [ 0.01264298,  0.00163507,  0.02676156, ..., -0.00608696,\n",
       "          0.04610664,  0.03211799],\n",
       "        ...,\n",
       "        [-0.00799193, -0.03857005, -0.04214312, ...,  0.01145232,\n",
       "         -0.00798444,  0.02458726],\n",
       "        [ 0.03384346,  0.04587296, -0.00220511, ..., -0.0243162 ,\n",
       "         -0.02767168,  0.02989812],\n",
       "        [-0.01571541, -0.0208672 ,  0.0035185 , ...,  0.03022161,\n",
       "         -0.0012636 ,  0.04152019]],\n",
       "\n",
       "       [[ 0.01264298,  0.00163507,  0.02676156, ..., -0.00608696,\n",
       "          0.04610664,  0.03211799],\n",
       "        [ 0.01264298,  0.00163507,  0.02676156, ..., -0.00608696,\n",
       "          0.04610664,  0.03211799],\n",
       "        [ 0.01264298,  0.00163507,  0.02676156, ..., -0.00608696,\n",
       "          0.04610664,  0.03211799],\n",
       "        ...,\n",
       "        [ 0.00218096,  0.00834448, -0.00905873, ..., -0.02389268,\n",
       "         -0.0031971 ,  0.04537834],\n",
       "        [-0.00799193, -0.03857005, -0.04214312, ...,  0.01145232,\n",
       "         -0.00798444,  0.02458726],\n",
       "        [ 0.01475212,  0.02192176,  0.03924085, ..., -0.01161154,\n",
       "          0.02421628,  0.02313918]],\n",
       "\n",
       "       [[ 0.01264298,  0.00163507,  0.02676156, ..., -0.00608696,\n",
       "          0.04610664,  0.03211799],\n",
       "        [ 0.01264298,  0.00163507,  0.02676156, ..., -0.00608696,\n",
       "          0.04610664,  0.03211799],\n",
       "        [ 0.01264298,  0.00163507,  0.02676156, ..., -0.00608696,\n",
       "          0.04610664,  0.03211799],\n",
       "        ...,\n",
       "        [ 0.01600556, -0.00973579, -0.03540828, ..., -0.01047536,\n",
       "         -0.01158385, -0.02419455],\n",
       "        [-0.03323044, -0.04809067, -0.01768281, ...,  0.01341179,\n",
       "          0.02334455, -0.04522592],\n",
       "        [-0.04337005, -0.03711956, -0.00142578, ..., -0.01358197,\n",
       "          0.04839515,  0.04333972]],\n",
       "\n",
       "       ...,\n",
       "\n",
       "       [[ 0.01264298,  0.00163507,  0.02676156, ..., -0.00608696,\n",
       "          0.04610664,  0.03211799],\n",
       "        [ 0.01264298,  0.00163507,  0.02676156, ..., -0.00608696,\n",
       "          0.04610664,  0.03211799],\n",
       "        [ 0.01264298,  0.00163507,  0.02676156, ..., -0.00608696,\n",
       "          0.04610664,  0.03211799],\n",
       "        ...,\n",
       "        [ 0.01546997, -0.0473026 , -0.02905816, ..., -0.02797216,\n",
       "         -0.01732708,  0.01315165],\n",
       "        [ 0.0425486 , -0.01463084,  0.01662003, ...,  0.00052366,\n",
       "         -0.01933599,  0.04499171],\n",
       "        [-0.00308717,  0.04256983,  0.04687997, ..., -0.01608174,\n",
       "         -0.03050043, -0.0271758 ]],\n",
       "\n",
       "       [[ 0.01264298,  0.00163507,  0.02676156, ..., -0.00608696,\n",
       "          0.04610664,  0.03211799],\n",
       "        [ 0.01264298,  0.00163507,  0.02676156, ..., -0.00608696,\n",
       "          0.04610664,  0.03211799],\n",
       "        [ 0.01264298,  0.00163507,  0.02676156, ..., -0.00608696,\n",
       "          0.04610664,  0.03211799],\n",
       "        ...,\n",
       "        [-0.04306481, -0.03609016,  0.00851587, ...,  0.04532724,\n",
       "          0.04440415, -0.04057436],\n",
       "        [ 0.03325996,  0.04889074, -0.00822014, ..., -0.00759189,\n",
       "          0.00196677, -0.03997592],\n",
       "        [-0.01816998, -0.01480353,  0.03673288, ..., -0.01663601,\n",
       "         -0.0055819 ,  0.02596513]],\n",
       "\n",
       "       [[ 0.01264298,  0.00163507,  0.02676156, ..., -0.00608696,\n",
       "          0.04610664,  0.03211799],\n",
       "        [ 0.01264298,  0.00163507,  0.02676156, ..., -0.00608696,\n",
       "          0.04610664,  0.03211799],\n",
       "        [ 0.01264298,  0.00163507,  0.02676156, ..., -0.00608696,\n",
       "          0.04610664,  0.03211799],\n",
       "        ...,\n",
       "        [ 0.03216387,  0.04520894,  0.01118872, ...,  0.0070397 ,\n",
       "         -0.04939532, -0.03376751],\n",
       "        [-0.04029497,  0.00532117,  0.00373962, ...,  0.04002598,\n",
       "          0.03261713,  0.04133194],\n",
       "        [ 0.0371979 ,  0.04838933, -0.02274498, ...,  0.0412166 ,\n",
       "          0.03462156,  0.00738555]]], dtype=float32)"
      ]
     },
     "execution_count": 82,
     "metadata": {},
     "output_type": "execute_result"
    }
   ],
   "source": [
    "# Checking the vector representation \n",
    "model.predict(embedded_docs)  # Predicting the embedding for the first sentence)"
   ]
  },
  {
   "cell_type": "code",
   "execution_count": 90,
   "id": "c4981770",
   "metadata": {},
   "outputs": [
    {
     "name": "stdout",
     "output_type": "stream",
     "text": [
      "\u001b[1m1/1\u001b[0m \u001b[32m━━━━━━━━━━━━━━━━━━━━\u001b[0m\u001b[37m\u001b[0m \u001b[1m0s\u001b[0m 29ms/step"
     ]
    },
    {
     "name": "stdout",
     "output_type": "stream",
     "text": [
      "\u001b[1m1/1\u001b[0m \u001b[32m━━━━━━━━━━━━━━━━━━━━\u001b[0m\u001b[37m\u001b[0m \u001b[1m0s\u001b[0m 52ms/step\n"
     ]
    },
    {
     "data": {
      "text/plain": [
       "array([ 0.01264298,  0.00163507,  0.02676156, -0.03849747,  0.02981741,\n",
       "       -0.04256977, -0.01930399, -0.00249118,  0.03019929,  0.03314808,\n",
       "        0.03297972, -0.00608696,  0.04610664,  0.03211799], dtype=float32)"
      ]
     },
     "execution_count": 90,
     "metadata": {},
     "output_type": "execute_result"
    }
   ],
   "source": [
    "# vector representation of the first sentence\n",
    "model.predict(embedded_docs[0].reshape(1, -1))[0][0]"
   ]
  },
  {
   "cell_type": "code",
   "execution_count": 86,
   "id": "e45f8be6",
   "metadata": {},
   "outputs": [
    {
     "data": {
      "text/plain": [
       "array([[   0,    0,    0,    0,  211,  478,  953, 2729, 8382, 9369,  211,\n",
       "        6140, 7289]])"
      ]
     },
     "execution_count": 86,
     "metadata": {},
     "output_type": "execute_result"
    }
   ],
   "source": [
    "embedded_docs[0].reshape(1, -1)"
   ]
  },
  {
   "cell_type": "code",
   "execution_count": null,
   "id": "163e8a1f",
   "metadata": {},
   "outputs": [],
   "source": []
  }
 ],
 "metadata": {
  "kernelspec": {
   "display_name": "Python 3",
   "language": "python",
   "name": "python3"
  },
  "language_info": {
   "codemirror_mode": {
    "name": "ipython",
    "version": 3
   },
   "file_extension": ".py",
   "mimetype": "text/x-python",
   "name": "python",
   "nbconvert_exporter": "python",
   "pygments_lexer": "ipython3",
   "version": "3.11.8"
  }
 },
 "nbformat": 4,
 "nbformat_minor": 5
}
