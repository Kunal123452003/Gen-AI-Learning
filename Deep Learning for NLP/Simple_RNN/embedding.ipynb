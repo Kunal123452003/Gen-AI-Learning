{
 "cells": [
  {
   "cell_type": "code",
   "execution_count": 1,
   "id": "86812e11",
   "metadata": {},
   "outputs": [],
   "source": [
    "from tensorflow.keras.preprocessing.text import one_hot"
   ]
  },
  {
   "cell_type": "code",
   "execution_count": 2,
   "id": "cf06bb9e",
   "metadata": {},
   "outputs": [],
   "source": [
    "sentences = [\n",
    "    \"The quick brown fox jumps over the lazy dog.\",\n",
    "    \"Artificial intelligence is transforming the world.\",\n",
    "    \"ChatGPT is a powerful language model developed by OpenAI.\",\n",
    "    \"Data science involves statistics, programming, and domain expertise.\",\n",
    "    \"The weather today is sunny with a chance of rain in the evening.\",\n",
    "    \"He bought a new laptop for his machine learning project.\",\n",
    "    \"Natural language processing enables machines to understand human language.\",\n",
    "    \"The stock market showed a significant drop yesterday.\",\n",
    "    \"Python is a versatile programming language used in many fields.\",\n",
    "    \"She traveled to Japan to experience the cherry blossom season.\"\n",
    "]\n"
   ]
  },
  {
   "cell_type": "code",
   "execution_count": null,
   "id": "8c318f79",
   "metadata": {},
   "outputs": [],
   "source": []
  },
  {
   "cell_type": "code",
   "execution_count": 3,
   "id": "6f7a969d",
   "metadata": {},
   "outputs": [],
   "source": [
    "voc_size = 10000  # Size of the vocabulary"
   ]
  },
  {
   "cell_type": "code",
   "execution_count": 4,
   "id": "a3a97c31",
   "metadata": {},
   "outputs": [],
   "source": [
    "## One-Hot Representation"
   ]
  },
  {
   "cell_type": "code",
   "execution_count": 5,
   "id": "56438910",
   "metadata": {},
   "outputs": [],
   "source": [
    "## one hot representation\n",
    "one_hot_repre = [ one_hot(words, voc_size) for words in sentences ]"
   ]
  },
  {
   "cell_type": "code",
   "execution_count": 6,
   "id": "efbf4044",
   "metadata": {},
   "outputs": [
    {
     "data": {
      "text/plain": [
       "[[3928, 1546, 7082, 6349, 6509, 3794, 3928, 2840, 1358],\n",
       " [2962, 6788, 2916, 8324, 3928, 4807],\n",
       " [2706, 2916, 3380, 5101, 9351, 783, 4880, 8271, 4697],\n",
       " [4414, 7999, 2931, 5017, 9644, 5583, 7240, 5010],\n",
       " [3928, 1024, 143, 2916, 1840, 4823, 3380, 7537, 9084, 8109, 6438, 3928, 434],\n",
       " [4358, 4723, 3380, 5305, 1927, 4954, 7451, 1716, 7589, 7256],\n",
       " [2172, 9351, 2165, 5950, 3003, 3969, 3153, 5536, 9351],\n",
       " [3928, 7031, 2764, 587, 3380, 4178, 1161, 8423],\n",
       " [6926, 2916, 3380, 9015, 9644, 9351, 4569, 6438, 3664, 7585],\n",
       " [4756, 7611, 3969, 499, 3969, 8363, 3928, 579, 9724, 1683]]"
      ]
     },
     "execution_count": 6,
     "metadata": {},
     "output_type": "execute_result"
    }
   ],
   "source": [
    "one_hot_repre"
   ]
  },
  {
   "cell_type": "code",
   "execution_count": 7,
   "id": "6c4f6d7e",
   "metadata": {},
   "outputs": [],
   "source": [
    "# Word embedding representation\n",
    "import tensorflow as tf\n",
    "from tensorflow import keras\n",
    "from tensorflow.keras.layers import Embedding\n",
    "from tensorflow.keras.utils import pad_sequences\n",
    "from tensorflow.keras.models import Sequential\n"
   ]
  },
  {
   "cell_type": "code",
   "execution_count": 8,
   "id": "fea7141f",
   "metadata": {},
   "outputs": [],
   "source": [
    "import numpy as np"
   ]
  },
  {
   "cell_type": "code",
   "execution_count": 9,
   "id": "f6fdea63",
   "metadata": {},
   "outputs": [],
   "source": [
    "## Padding sequences"
   ]
  },
  {
   "cell_type": "code",
   "execution_count": 11,
   "id": "8305d3f7",
   "metadata": {},
   "outputs": [],
   "source": [
    "sen_length = 13"
   ]
  },
  {
   "cell_type": "code",
   "execution_count": 12,
   "id": "1358ff6c",
   "metadata": {},
   "outputs": [
    {
     "data": {
      "text/plain": [
       "array([[   0,    0,    0,    0, 3928, 1546, 7082, 6349, 6509, 3794, 3928,\n",
       "        2840, 1358],\n",
       "       [   0,    0,    0,    0,    0,    0,    0, 2962, 6788, 2916, 8324,\n",
       "        3928, 4807],\n",
       "       [   0,    0,    0,    0, 2706, 2916, 3380, 5101, 9351,  783, 4880,\n",
       "        8271, 4697],\n",
       "       [   0,    0,    0,    0,    0, 4414, 7999, 2931, 5017, 9644, 5583,\n",
       "        7240, 5010],\n",
       "       [3928, 1024,  143, 2916, 1840, 4823, 3380, 7537, 9084, 8109, 6438,\n",
       "        3928,  434],\n",
       "       [   0,    0,    0, 4358, 4723, 3380, 5305, 1927, 4954, 7451, 1716,\n",
       "        7589, 7256],\n",
       "       [   0,    0,    0,    0, 2172, 9351, 2165, 5950, 3003, 3969, 3153,\n",
       "        5536, 9351],\n",
       "       [   0,    0,    0,    0,    0, 3928, 7031, 2764,  587, 3380, 4178,\n",
       "        1161, 8423],\n",
       "       [   0,    0,    0, 6926, 2916, 3380, 9015, 9644, 9351, 4569, 6438,\n",
       "        3664, 7585],\n",
       "       [   0,    0,    0, 4756, 7611, 3969,  499, 3969, 8363, 3928,  579,\n",
       "        9724, 1683]])"
      ]
     },
     "execution_count": 12,
     "metadata": {},
     "output_type": "execute_result"
    }
   ],
   "source": [
    "embedded_docs = pad_sequences(one_hot_repre, padding = \"pre\", maxlen=sen_length)   # pre padding means padding at the beginning of the sequence\n",
    "embedded_docs"
   ]
  },
  {
   "cell_type": "code",
   "execution_count": 13,
   "id": "2bbb1268",
   "metadata": {},
   "outputs": [],
   "source": [
    "## model creation"
   ]
  },
  {
   "cell_type": "code",
   "execution_count": 14,
   "id": "516e9032",
   "metadata": {},
   "outputs": [],
   "source": [
    "## feature representation\n",
    "dim = 14 # Dimension of the embedding vector"
   ]
  },
  {
   "cell_type": "code",
   "execution_count": 15,
   "id": "9f7d4210",
   "metadata": {},
   "outputs": [],
   "source": [
    "model = Sequential()\n",
    "# not working until forcefully create the model OR train the model then the model.summary won't be a blank---> # model.add(Embedding(voc_size, dim, input_length=sen_length))  # voc_size is the size of the vocabulary, dim is the dimension of the embedding vector, and sen_length is the length of the input sequences\n",
    "model.add(Embedding(input_dim=voc_size, output_dim=dim))\n",
    "model.build(input_shape=(None, sen_length)) # Build the model with the specified input shape\n",
    "model.compile(\"adam\",\"mse\")  # Compile the model with Adam optimizer and mean squared error loss"
   ]
  },
  {
   "cell_type": "code",
   "execution_count": 16,
   "id": "8712d31c",
   "metadata": {},
   "outputs": [
    {
     "data": {
      "text/html": [
       "<pre style=\"white-space:pre;overflow-x:auto;line-height:normal;font-family:Menlo,'DejaVu Sans Mono',consolas,'Courier New',monospace\"><span style=\"font-weight: bold\">Model: \"sequential\"</span>\n",
       "</pre>\n"
      ],
      "text/plain": [
       "\u001b[1mModel: \"sequential\"\u001b[0m\n"
      ]
     },
     "metadata": {},
     "output_type": "display_data"
    },
    {
     "data": {
      "text/html": [
       "<pre style=\"white-space:pre;overflow-x:auto;line-height:normal;font-family:Menlo,'DejaVu Sans Mono',consolas,'Courier New',monospace\">┏━━━━━━━━━━━━━━━━━━━━━━━━━━━━━━━━━┳━━━━━━━━━━━━━━━━━━━━━━━━┳━━━━━━━━━━━━━━━┓\n",
       "┃<span style=\"font-weight: bold\"> Layer (type)                    </span>┃<span style=\"font-weight: bold\"> Output Shape           </span>┃<span style=\"font-weight: bold\">       Param # </span>┃\n",
       "┡━━━━━━━━━━━━━━━━━━━━━━━━━━━━━━━━━╇━━━━━━━━━━━━━━━━━━━━━━━━╇━━━━━━━━━━━━━━━┩\n",
       "│ embedding (<span style=\"color: #0087ff; text-decoration-color: #0087ff\">Embedding</span>)           │ (<span style=\"color: #00d7ff; text-decoration-color: #00d7ff\">None</span>, <span style=\"color: #00af00; text-decoration-color: #00af00\">13</span>, <span style=\"color: #00af00; text-decoration-color: #00af00\">14</span>)         │       <span style=\"color: #00af00; text-decoration-color: #00af00\">140,000</span> │\n",
       "└─────────────────────────────────┴────────────────────────┴───────────────┘\n",
       "</pre>\n"
      ],
      "text/plain": [
       "┏━━━━━━━━━━━━━━━━━━━━━━━━━━━━━━━━━┳━━━━━━━━━━━━━━━━━━━━━━━━┳━━━━━━━━━━━━━━━┓\n",
       "┃\u001b[1m \u001b[0m\u001b[1mLayer (type)                   \u001b[0m\u001b[1m \u001b[0m┃\u001b[1m \u001b[0m\u001b[1mOutput Shape          \u001b[0m\u001b[1m \u001b[0m┃\u001b[1m \u001b[0m\u001b[1m      Param #\u001b[0m\u001b[1m \u001b[0m┃\n",
       "┡━━━━━━━━━━━━━━━━━━━━━━━━━━━━━━━━━╇━━━━━━━━━━━━━━━━━━━━━━━━╇━━━━━━━━━━━━━━━┩\n",
       "│ embedding (\u001b[38;5;33mEmbedding\u001b[0m)           │ (\u001b[38;5;45mNone\u001b[0m, \u001b[38;5;34m13\u001b[0m, \u001b[38;5;34m14\u001b[0m)         │       \u001b[38;5;34m140,000\u001b[0m │\n",
       "└─────────────────────────────────┴────────────────────────┴───────────────┘\n"
      ]
     },
     "metadata": {},
     "output_type": "display_data"
    },
    {
     "data": {
      "text/html": [
       "<pre style=\"white-space:pre;overflow-x:auto;line-height:normal;font-family:Menlo,'DejaVu Sans Mono',consolas,'Courier New',monospace\"><span style=\"font-weight: bold\"> Total params: </span><span style=\"color: #00af00; text-decoration-color: #00af00\">140,000</span> (546.88 KB)\n",
       "</pre>\n"
      ],
      "text/plain": [
       "\u001b[1m Total params: \u001b[0m\u001b[38;5;34m140,000\u001b[0m (546.88 KB)\n"
      ]
     },
     "metadata": {},
     "output_type": "display_data"
    },
    {
     "data": {
      "text/html": [
       "<pre style=\"white-space:pre;overflow-x:auto;line-height:normal;font-family:Menlo,'DejaVu Sans Mono',consolas,'Courier New',monospace\"><span style=\"font-weight: bold\"> Trainable params: </span><span style=\"color: #00af00; text-decoration-color: #00af00\">140,000</span> (546.88 KB)\n",
       "</pre>\n"
      ],
      "text/plain": [
       "\u001b[1m Trainable params: \u001b[0m\u001b[38;5;34m140,000\u001b[0m (546.88 KB)\n"
      ]
     },
     "metadata": {},
     "output_type": "display_data"
    },
    {
     "data": {
      "text/html": [
       "<pre style=\"white-space:pre;overflow-x:auto;line-height:normal;font-family:Menlo,'DejaVu Sans Mono',consolas,'Courier New',monospace\"><span style=\"font-weight: bold\"> Non-trainable params: </span><span style=\"color: #00af00; text-decoration-color: #00af00\">0</span> (0.00 B)\n",
       "</pre>\n"
      ],
      "text/plain": [
       "\u001b[1m Non-trainable params: \u001b[0m\u001b[38;5;34m0\u001b[0m (0.00 B)\n"
      ]
     },
     "metadata": {},
     "output_type": "display_data"
    }
   ],
   "source": [
    "model.summary()"
   ]
  },
  {
   "cell_type": "code",
   "execution_count": 17,
   "id": "a6307c63",
   "metadata": {},
   "outputs": [
    {
     "name": "stdout",
     "output_type": "stream",
     "text": [
      "\u001b[1m1/1\u001b[0m \u001b[32m━━━━━━━━━━━━━━━━━━━━\u001b[0m\u001b[37m\u001b[0m \u001b[1m0s\u001b[0m 214ms/step\n"
     ]
    },
    {
     "data": {
      "text/plain": [
       "array([[[ 0.01582978,  0.01555424,  0.00917007, ...,  0.02813414,\n",
       "         -0.01793425,  0.02658433],\n",
       "        [ 0.01582978,  0.01555424,  0.00917007, ...,  0.02813414,\n",
       "         -0.01793425,  0.02658433],\n",
       "        [ 0.01582978,  0.01555424,  0.00917007, ...,  0.02813414,\n",
       "         -0.01793425,  0.02658433],\n",
       "        ...,\n",
       "        [ 0.02223165,  0.0089724 ,  0.04373772, ...,  0.00629544,\n",
       "         -0.0252335 , -0.01361487],\n",
       "        [-0.04504142,  0.04022575, -0.03672761, ...,  0.02331519,\n",
       "          0.00494073, -0.04606806],\n",
       "        [ 0.03403722,  0.0167384 , -0.02829028, ..., -0.00149249,\n",
       "         -0.02692946,  0.02934856]],\n",
       "\n",
       "       [[ 0.01582978,  0.01555424,  0.00917007, ...,  0.02813414,\n",
       "         -0.01793425,  0.02658433],\n",
       "        [ 0.01582978,  0.01555424,  0.00917007, ...,  0.02813414,\n",
       "         -0.01793425,  0.02658433],\n",
       "        [ 0.01582978,  0.01555424,  0.00917007, ...,  0.02813414,\n",
       "         -0.01793425,  0.02658433],\n",
       "        ...,\n",
       "        [ 0.04573316, -0.00276979, -0.02760543, ..., -0.0085312 ,\n",
       "          0.0287166 , -0.00678487],\n",
       "        [ 0.02223165,  0.0089724 ,  0.04373772, ...,  0.00629544,\n",
       "         -0.0252335 , -0.01361487],\n",
       "        [ 0.02503118,  0.0484347 ,  0.03593503, ..., -0.00331591,\n",
       "          0.01224731,  0.0238454 ]],\n",
       "\n",
       "       [[ 0.01582978,  0.01555424,  0.00917007, ...,  0.02813414,\n",
       "         -0.01793425,  0.02658433],\n",
       "        [ 0.01582978,  0.01555424,  0.00917007, ...,  0.02813414,\n",
       "         -0.01793425,  0.02658433],\n",
       "        [ 0.01582978,  0.01555424,  0.00917007, ...,  0.02813414,\n",
       "         -0.01793425,  0.02658433],\n",
       "        ...,\n",
       "        [-0.01365409, -0.00233323,  0.03049407, ...,  0.02070839,\n",
       "          0.01368991, -0.0218801 ],\n",
       "        [-0.01723114, -0.01269041,  0.01639095, ..., -0.02881554,\n",
       "          0.04869365,  0.02468638],\n",
       "        [-0.01130695, -0.02439914,  0.01881082, ...,  0.02106858,\n",
       "          0.03705717, -0.0005859 ]],\n",
       "\n",
       "       ...,\n",
       "\n",
       "       [[ 0.01582978,  0.01555424,  0.00917007, ...,  0.02813414,\n",
       "         -0.01793425,  0.02658433],\n",
       "        [ 0.01582978,  0.01555424,  0.00917007, ...,  0.02813414,\n",
       "         -0.01793425,  0.02658433],\n",
       "        [ 0.01582978,  0.01555424,  0.00917007, ...,  0.02813414,\n",
       "         -0.01793425,  0.02658433],\n",
       "        ...,\n",
       "        [-0.02707811, -0.03170995,  0.00921249, ...,  0.03213407,\n",
       "          0.04775229, -0.03140508],\n",
       "        [-0.00103122, -0.03421458,  0.00106759, ..., -0.03314434,\n",
       "         -0.03673872, -0.00557089],\n",
       "        [-0.03782875, -0.04291698, -0.03213811, ...,  0.03566709,\n",
       "         -0.0022617 ,  0.02560915]],\n",
       "\n",
       "       [[ 0.01582978,  0.01555424,  0.00917007, ...,  0.02813414,\n",
       "         -0.01793425,  0.02658433],\n",
       "        [ 0.01582978,  0.01555424,  0.00917007, ...,  0.02813414,\n",
       "         -0.01793425,  0.02658433],\n",
       "        [ 0.01582978,  0.01555424,  0.00917007, ...,  0.02813414,\n",
       "         -0.01793425,  0.02658433],\n",
       "        ...,\n",
       "        [ 0.04102482, -0.03870995,  0.02097856, ..., -0.01645867,\n",
       "          0.01506824, -0.03327763],\n",
       "        [-0.01081569,  0.01034128,  0.03592027, ...,  0.01413002,\n",
       "          0.02539649, -0.01724114],\n",
       "        [-0.01088496, -0.03114396, -0.01761092, ...,  0.04706528,\n",
       "          0.04869657,  0.0327356 ]],\n",
       "\n",
       "       [[ 0.01582978,  0.01555424,  0.00917007, ...,  0.02813414,\n",
       "         -0.01793425,  0.02658433],\n",
       "        [ 0.01582978,  0.01555424,  0.00917007, ...,  0.02813414,\n",
       "         -0.01793425,  0.02658433],\n",
       "        [ 0.01582978,  0.01555424,  0.00917007, ...,  0.02813414,\n",
       "         -0.01793425,  0.02658433],\n",
       "        ...,\n",
       "        [-0.01985106, -0.04392368, -0.04959093, ...,  0.03693309,\n",
       "         -0.02382029, -0.02327328],\n",
       "        [-0.0055299 ,  0.01893437,  0.04608918, ..., -0.01601688,\n",
       "          0.04169247,  0.04304752],\n",
       "        [ 0.04333946,  0.01422209, -0.00454681, ...,  0.00530466,\n",
       "          0.04209416, -0.03871391]]], dtype=float32)"
      ]
     },
     "execution_count": 17,
     "metadata": {},
     "output_type": "execute_result"
    }
   ],
   "source": [
    "# Checking the vector representation \n",
    "model.predict(embedded_docs)  # Predicting the embedding for the first sentence)"
   ]
  },
  {
   "cell_type": "code",
   "execution_count": 18,
   "id": "c4981770",
   "metadata": {},
   "outputs": [
    {
     "name": "stdout",
     "output_type": "stream",
     "text": [
      "\u001b[1m1/1\u001b[0m \u001b[32m━━━━━━━━━━━━━━━━━━━━\u001b[0m\u001b[37m\u001b[0m \u001b[1m0s\u001b[0m 70ms/step\n"
     ]
    },
    {
     "data": {
      "text/plain": [
       "array([ 0.01582978,  0.01555424,  0.00917007,  0.03752598, -0.01943018,\n",
       "        0.03193159,  0.01101247, -0.04830978, -0.04918664,  0.00065144,\n",
       "       -0.02305499,  0.02813414, -0.01793425,  0.02658433], dtype=float32)"
      ]
     },
     "execution_count": 18,
     "metadata": {},
     "output_type": "execute_result"
    }
   ],
   "source": [
    "# vector representation of the first sentence\n",
    "model.predict(embedded_docs[0].reshape(1, -1))[0][0]"
   ]
  },
  {
   "cell_type": "code",
   "execution_count": 17,
   "id": "e45f8be6",
   "metadata": {},
   "outputs": [
    {
     "data": {
      "text/plain": [
       "array([[   0,    0,    0,    0, 7087, 3752, 7397, 4716, 4573, 3262, 7087,\n",
       "        8214,  393]])"
      ]
     },
     "execution_count": 17,
     "metadata": {},
     "output_type": "execute_result"
    }
   ],
   "source": [
    "embedded_docs[0].reshape(1, -1)"
   ]
  },
  {
   "cell_type": "code",
   "execution_count": null,
   "id": "163e8a1f",
   "metadata": {},
   "outputs": [],
   "source": []
  },
  {
   "cell_type": "code",
   "execution_count": null,
   "id": "7df22042",
   "metadata": {},
   "outputs": [],
   "source": [
    "\n",
    "\n",
    "\n",
    "\n",
    "\n",
    "\n",
    "\n",
    "\n",
    "\n",
    "\n",
    "\n",
    "\n",
    "\n",
    "\n",
    "\n",
    "\n",
    "\n",
    "\n",
    "\n",
    "\n",
    "\n",
    "\n",
    "\n",
    "\n",
    "\n",
    "\n",
    "\n",
    "\n",
    "\n",
    "\n",
    "\n"
   ]
  }
 ],
 "metadata": {
  "kernelspec": {
   "display_name": "Python 3",
   "language": "python",
   "name": "python3"
  },
  "language_info": {
   "codemirror_mode": {
    "name": "ipython",
    "version": 3
   },
   "file_extension": ".py",
   "mimetype": "text/x-python",
   "name": "python",
   "nbconvert_exporter": "python",
   "pygments_lexer": "ipython3",
   "version": "3.11.8"
  }
 },
 "nbformat": 4,
 "nbformat_minor": 5
}
