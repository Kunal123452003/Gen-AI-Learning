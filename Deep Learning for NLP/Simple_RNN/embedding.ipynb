{
 "cells": [
  {
   "cell_type": "code",
   "execution_count": 1,
   "id": "86812e11",
   "metadata": {},
   "outputs": [],
   "source": [
    "from tensorflow.keras.preprocessing.text import one_hot"
   ]
  },
  {
   "cell_type": "code",
   "execution_count": 2,
   "id": "cf06bb9e",
   "metadata": {},
   "outputs": [],
   "source": [
    "sentences = [\n",
    "    \"The quick brown fox jumps over the lazy dog.\",\n",
    "    \"Artificial intelligence is transforming the world.\",\n",
    "    \"ChatGPT is a powerful language model developed by OpenAI.\",\n",
    "    \"Data science involves statistics, programming, and domain expertise.\",\n",
    "    \"The weather today is sunny with a chance of rain in the evening.\",\n",
    "    \"He bought a new laptop for his machine learning project.\",\n",
    "    \"Natural language processing enables machines to understand human language.\",\n",
    "    \"The stock market showed a significant drop yesterday.\",\n",
    "    \"Python is a versatile programming language used in many fields.\",\n",
    "    \"She traveled to Japan to experience the cherry blossom season.\"\n",
    "]\n"
   ]
  },
  {
   "cell_type": "code",
   "execution_count": null,
   "id": "8c318f79",
   "metadata": {},
   "outputs": [],
   "source": []
  },
  {
   "cell_type": "code",
   "execution_count": 3,
   "id": "6f7a969d",
   "metadata": {},
   "outputs": [],
   "source": [
    "voc_size = 10000  # Size of the vocabulary"
   ]
  },
  {
   "cell_type": "code",
   "execution_count": 4,
   "id": "a3a97c31",
   "metadata": {},
   "outputs": [],
   "source": [
    "## One-Hot Representation"
   ]
  },
  {
   "cell_type": "code",
   "execution_count": 5,
   "id": "56438910",
   "metadata": {},
   "outputs": [],
   "source": [
    "## one hot representation\n",
    "one_hot_repre = [ one_hot(words, voc_size) for words in sentences ]"
   ]
  },
  {
   "cell_type": "code",
   "execution_count": 6,
   "id": "efbf4044",
   "metadata": {},
   "outputs": [
    {
     "data": {
      "text/plain": [
       "[[7087, 3752, 7397, 4716, 4573, 3262, 7087, 8214, 393],\n",
       " [1107, 7930, 461, 74, 7087, 6127],\n",
       " [3846, 461, 7218, 677, 9280, 7282, 7875, 4333, 4397],\n",
       " [5546, 1276, 3634, 5012, 9803, 5997, 8026, 4346],\n",
       " [7087, 4224, 2402, 461, 5510, 2659, 7218, 8350, 5582, 6217, 8193, 7087, 2919],\n",
       " [3516, 4811, 7218, 9264, 4425, 7596, 9275, 6951, 831, 5037],\n",
       " [1281, 9280, 2366, 886, 2552, 8737, 7230, 7328, 9280],\n",
       " [7087, 6670, 7467, 241, 7218, 2671, 8968, 386],\n",
       " [6441, 461, 7218, 7707, 9803, 9280, 4750, 8193, 3624, 4976],\n",
       " [7138, 827, 8737, 4076, 8737, 2054, 7087, 2811, 332, 1360]]"
      ]
     },
     "execution_count": 6,
     "metadata": {},
     "output_type": "execute_result"
    }
   ],
   "source": [
    "one_hot_repre"
   ]
  },
  {
   "cell_type": "code",
   "execution_count": 7,
   "id": "6c4f6d7e",
   "metadata": {},
   "outputs": [],
   "source": [
    "# Word embedding representation\n",
    "import tensorflow as tf\n",
    "from tensorflow import keras\n",
    "from tensorflow.keras.layers import Embedding\n",
    "from tensorflow.keras.utils import pad_sequences\n",
    "from tensorflow.keras.models import Sequential\n"
   ]
  },
  {
   "cell_type": "code",
   "execution_count": 8,
   "id": "fea7141f",
   "metadata": {},
   "outputs": [],
   "source": [
    "import numpy as np"
   ]
  },
  {
   "cell_type": "code",
   "execution_count": 9,
   "id": "f6fdea63",
   "metadata": {},
   "outputs": [],
   "source": [
    "## Padding sequences"
   ]
  },
  {
   "cell_type": "code",
   "execution_count": null,
   "id": "1358ff6c",
   "metadata": {},
   "outputs": [
    {
     "data": {
      "text/plain": [
       "array([[   0,    0,    0,    0, 7087, 3752, 7397, 4716, 4573, 3262, 7087,\n",
       "        8214,  393],\n",
       "       [   0,    0,    0,    0,    0,    0,    0, 1107, 7930,  461,   74,\n",
       "        7087, 6127],\n",
       "       [   0,    0,    0,    0, 3846,  461, 7218,  677, 9280, 7282, 7875,\n",
       "        4333, 4397],\n",
       "       [   0,    0,    0,    0,    0, 5546, 1276, 3634, 5012, 9803, 5997,\n",
       "        8026, 4346],\n",
       "       [7087, 4224, 2402,  461, 5510, 2659, 7218, 8350, 5582, 6217, 8193,\n",
       "        7087, 2919],\n",
       "       [   0,    0,    0, 3516, 4811, 7218, 9264, 4425, 7596, 9275, 6951,\n",
       "         831, 5037],\n",
       "       [   0,    0,    0,    0, 1281, 9280, 2366,  886, 2552, 8737, 7230,\n",
       "        7328, 9280],\n",
       "       [   0,    0,    0,    0,    0, 7087, 6670, 7467,  241, 7218, 2671,\n",
       "        8968,  386],\n",
       "       [   0,    0,    0, 6441,  461, 7218, 7707, 9803, 9280, 4750, 8193,\n",
       "        3624, 4976],\n",
       "       [   0,    0,    0, 7138,  827, 8737, 4076, 8737, 2054, 7087, 2811,\n",
       "         332, 1360]])"
      ]
     },
     "execution_count": 10,
     "metadata": {},
     "output_type": "execute_result"
    }
   ],
   "source": [
    "embedded_docs = pad_sequences(one_hot_repre, padding = \"pre\", maxlen=sen_length)   # pre padding means padding at the beginning of the sequence\n",
    "embedded_docs"
   ]
  },
  {
   "cell_type": "code",
   "execution_count": 11,
   "id": "2bbb1268",
   "metadata": {},
   "outputs": [],
   "source": [
    "## model creation"
   ]
  },
  {
   "cell_type": "code",
   "execution_count": 12,
   "id": "516e9032",
   "metadata": {},
   "outputs": [],
   "source": [
    "## feature representation\n",
    "dim = 14 # Dimension of the embedding vector"
   ]
  },
  {
   "cell_type": "code",
   "execution_count": 13,
   "id": "9f7d4210",
   "metadata": {},
   "outputs": [],
   "source": [
    "model = Sequential()\n",
    "# not working until forcefully create the model OR train the model then the model.summary won't be a blank---> # model.add(Embedding(voc_size, dim, input_length=sen_length))  # voc_size is the size of the vocabulary, dim is the dimension of the embedding vector, and sen_length is the length of the input sequences\n",
    "model.add(Embedding(input_dim=voc_size, output_dim=dim))\n",
    "model.build(input_shape=(None, sen_length)) # Build the model with the specified input shape\n",
    "model.compile(\"adam\",\"mse\")  # Compile the model with Adam optimizer and mean squared error loss"
   ]
  },
  {
   "cell_type": "code",
   "execution_count": 14,
   "id": "8712d31c",
   "metadata": {},
   "outputs": [
    {
     "data": {
      "text/html": [
       "<pre style=\"white-space:pre;overflow-x:auto;line-height:normal;font-family:Menlo,'DejaVu Sans Mono',consolas,'Courier New',monospace\"><span style=\"font-weight: bold\">Model: \"sequential\"</span>\n",
       "</pre>\n"
      ],
      "text/plain": [
       "\u001b[1mModel: \"sequential\"\u001b[0m\n"
      ]
     },
     "metadata": {},
     "output_type": "display_data"
    },
    {
     "data": {
      "text/html": [
       "<pre style=\"white-space:pre;overflow-x:auto;line-height:normal;font-family:Menlo,'DejaVu Sans Mono',consolas,'Courier New',monospace\">┏━━━━━━━━━━━━━━━━━━━━━━━━━━━━━━━━━┳━━━━━━━━━━━━━━━━━━━━━━━━┳━━━━━━━━━━━━━━━┓\n",
       "┃<span style=\"font-weight: bold\"> Layer (type)                    </span>┃<span style=\"font-weight: bold\"> Output Shape           </span>┃<span style=\"font-weight: bold\">       Param # </span>┃\n",
       "┡━━━━━━━━━━━━━━━━━━━━━━━━━━━━━━━━━╇━━━━━━━━━━━━━━━━━━━━━━━━╇━━━━━━━━━━━━━━━┩\n",
       "│ embedding (<span style=\"color: #0087ff; text-decoration-color: #0087ff\">Embedding</span>)           │ (<span style=\"color: #00d7ff; text-decoration-color: #00d7ff\">None</span>, <span style=\"color: #00af00; text-decoration-color: #00af00\">13</span>, <span style=\"color: #00af00; text-decoration-color: #00af00\">14</span>)         │       <span style=\"color: #00af00; text-decoration-color: #00af00\">140,000</span> │\n",
       "└─────────────────────────────────┴────────────────────────┴───────────────┘\n",
       "</pre>\n"
      ],
      "text/plain": [
       "┏━━━━━━━━━━━━━━━━━━━━━━━━━━━━━━━━━┳━━━━━━━━━━━━━━━━━━━━━━━━┳━━━━━━━━━━━━━━━┓\n",
       "┃\u001b[1m \u001b[0m\u001b[1mLayer (type)                   \u001b[0m\u001b[1m \u001b[0m┃\u001b[1m \u001b[0m\u001b[1mOutput Shape          \u001b[0m\u001b[1m \u001b[0m┃\u001b[1m \u001b[0m\u001b[1m      Param #\u001b[0m\u001b[1m \u001b[0m┃\n",
       "┡━━━━━━━━━━━━━━━━━━━━━━━━━━━━━━━━━╇━━━━━━━━━━━━━━━━━━━━━━━━╇━━━━━━━━━━━━━━━┩\n",
       "│ embedding (\u001b[38;5;33mEmbedding\u001b[0m)           │ (\u001b[38;5;45mNone\u001b[0m, \u001b[38;5;34m13\u001b[0m, \u001b[38;5;34m14\u001b[0m)         │       \u001b[38;5;34m140,000\u001b[0m │\n",
       "└─────────────────────────────────┴────────────────────────┴───────────────┘\n"
      ]
     },
     "metadata": {},
     "output_type": "display_data"
    },
    {
     "data": {
      "text/html": [
       "<pre style=\"white-space:pre;overflow-x:auto;line-height:normal;font-family:Menlo,'DejaVu Sans Mono',consolas,'Courier New',monospace\"><span style=\"font-weight: bold\"> Total params: </span><span style=\"color: #00af00; text-decoration-color: #00af00\">140,000</span> (546.88 KB)\n",
       "</pre>\n"
      ],
      "text/plain": [
       "\u001b[1m Total params: \u001b[0m\u001b[38;5;34m140,000\u001b[0m (546.88 KB)\n"
      ]
     },
     "metadata": {},
     "output_type": "display_data"
    },
    {
     "data": {
      "text/html": [
       "<pre style=\"white-space:pre;overflow-x:auto;line-height:normal;font-family:Menlo,'DejaVu Sans Mono',consolas,'Courier New',monospace\"><span style=\"font-weight: bold\"> Trainable params: </span><span style=\"color: #00af00; text-decoration-color: #00af00\">140,000</span> (546.88 KB)\n",
       "</pre>\n"
      ],
      "text/plain": [
       "\u001b[1m Trainable params: \u001b[0m\u001b[38;5;34m140,000\u001b[0m (546.88 KB)\n"
      ]
     },
     "metadata": {},
     "output_type": "display_data"
    },
    {
     "data": {
      "text/html": [
       "<pre style=\"white-space:pre;overflow-x:auto;line-height:normal;font-family:Menlo,'DejaVu Sans Mono',consolas,'Courier New',monospace\"><span style=\"font-weight: bold\"> Non-trainable params: </span><span style=\"color: #00af00; text-decoration-color: #00af00\">0</span> (0.00 B)\n",
       "</pre>\n"
      ],
      "text/plain": [
       "\u001b[1m Non-trainable params: \u001b[0m\u001b[38;5;34m0\u001b[0m (0.00 B)\n"
      ]
     },
     "metadata": {},
     "output_type": "display_data"
    }
   ],
   "source": [
    "model.summary()"
   ]
  },
  {
   "cell_type": "code",
   "execution_count": 15,
   "id": "a6307c63",
   "metadata": {},
   "outputs": [
    {
     "name": "stdout",
     "output_type": "stream",
     "text": [
      "\u001b[1m1/1\u001b[0m \u001b[32m━━━━━━━━━━━━━━━━━━━━\u001b[0m\u001b[37m\u001b[0m \u001b[1m0s\u001b[0m 211ms/step\n"
     ]
    },
    {
     "data": {
      "text/plain": [
       "array([[[ 0.00827418,  0.04490118,  0.00658356, ..., -0.03265851,\n",
       "          0.04511983, -0.02386363],\n",
       "        [ 0.00827418,  0.04490118,  0.00658356, ..., -0.03265851,\n",
       "          0.04511983, -0.02386363],\n",
       "        [ 0.00827418,  0.04490118,  0.00658356, ..., -0.03265851,\n",
       "          0.04511983, -0.02386363],\n",
       "        ...,\n",
       "        [-0.01166555,  0.02414724,  0.03363593, ..., -0.02017288,\n",
       "          0.01755381,  0.02066621],\n",
       "        [-0.03490542, -0.01280242, -0.01351263, ..., -0.0052886 ,\n",
       "          0.04435058,  0.04611344],\n",
       "        [ 0.03105808, -0.04536628,  0.03574539, ..., -0.00756298,\n",
       "         -0.03300504, -0.00876682]],\n",
       "\n",
       "       [[ 0.00827418,  0.04490118,  0.00658356, ..., -0.03265851,\n",
       "          0.04511983, -0.02386363],\n",
       "        [ 0.00827418,  0.04490118,  0.00658356, ..., -0.03265851,\n",
       "          0.04511983, -0.02386363],\n",
       "        [ 0.00827418,  0.04490118,  0.00658356, ..., -0.03265851,\n",
       "          0.04511983, -0.02386363],\n",
       "        ...,\n",
       "        [ 0.02213326,  0.00152139,  0.01586223, ...,  0.04564646,\n",
       "         -0.04774668, -0.03284278],\n",
       "        [-0.01166555,  0.02414724,  0.03363593, ..., -0.02017288,\n",
       "          0.01755381,  0.02066621],\n",
       "        [ 0.0459814 ,  0.00517812,  0.00738525, ..., -0.00705068,\n",
       "          0.01622368, -0.02207257]],\n",
       "\n",
       "       [[ 0.00827418,  0.04490118,  0.00658356, ..., -0.03265851,\n",
       "          0.04511983, -0.02386363],\n",
       "        [ 0.00827418,  0.04490118,  0.00658356, ..., -0.03265851,\n",
       "          0.04511983, -0.02386363],\n",
       "        [ 0.00827418,  0.04490118,  0.00658356, ..., -0.03265851,\n",
       "          0.04511983, -0.02386363],\n",
       "        ...,\n",
       "        [-0.03955594, -0.00291784, -0.04668015, ...,  0.02719787,\n",
       "          0.00096498, -0.00329258],\n",
       "        [-0.04048389,  0.0192262 ,  0.02808985, ...,  0.00342716,\n",
       "         -0.01471574,  0.04397224],\n",
       "        [ 0.02626545,  0.02045405,  0.03092468, ..., -0.04011462,\n",
       "         -0.02529863, -0.02611628]],\n",
       "\n",
       "       ...,\n",
       "\n",
       "       [[ 0.00827418,  0.04490118,  0.00658356, ..., -0.03265851,\n",
       "          0.04511983, -0.02386363],\n",
       "        [ 0.00827418,  0.04490118,  0.00658356, ..., -0.03265851,\n",
       "          0.04511983, -0.02386363],\n",
       "        [ 0.00827418,  0.04490118,  0.00658356, ..., -0.03265851,\n",
       "          0.04511983, -0.02386363],\n",
       "        ...,\n",
       "        [-0.02193173,  0.00454611,  0.00486648, ..., -0.03755118,\n",
       "          0.01077859, -0.04690726],\n",
       "        [-0.01523978, -0.01638154,  0.02108658, ..., -0.00269667,\n",
       "         -0.02720448,  0.01890599],\n",
       "        [ 0.03929306,  0.02746684,  0.04638292, ...,  0.04198169,\n",
       "         -0.02602925, -0.00535203]],\n",
       "\n",
       "       [[ 0.00827418,  0.04490118,  0.00658356, ..., -0.03265851,\n",
       "          0.04511983, -0.02386363],\n",
       "        [ 0.00827418,  0.04490118,  0.00658356, ..., -0.03265851,\n",
       "          0.04511983, -0.02386363],\n",
       "        [ 0.00827418,  0.04490118,  0.00658356, ..., -0.03265851,\n",
       "          0.04511983, -0.02386363],\n",
       "        ...,\n",
       "        [ 0.03970966,  0.01777681, -0.01082712, ...,  0.03131462,\n",
       "          0.03401475,  0.02414941],\n",
       "        [ 0.00401944, -0.01053564,  0.003696  , ...,  0.02536384,\n",
       "          0.00629275, -0.04004782],\n",
       "        [-0.02105136,  0.02452086,  0.01259844, ...,  0.0254938 ,\n",
       "          0.00846654,  0.00399484]],\n",
       "\n",
       "       [[ 0.00827418,  0.04490118,  0.00658356, ..., -0.03265851,\n",
       "          0.04511983, -0.02386363],\n",
       "        [ 0.00827418,  0.04490118,  0.00658356, ..., -0.03265851,\n",
       "          0.04511983, -0.02386363],\n",
       "        [ 0.00827418,  0.04490118,  0.00658356, ..., -0.03265851,\n",
       "          0.04511983, -0.02386363],\n",
       "        ...,\n",
       "        [ 0.01425037, -0.04706487, -0.01022875, ..., -0.03319877,\n",
       "          0.02190118,  0.03705214],\n",
       "        [ 0.00606136, -0.00346754,  0.03665561, ...,  0.00479044,\n",
       "          0.00835139,  0.01030917],\n",
       "        [-0.04631652, -0.00110948,  0.01160078, ..., -0.00600607,\n",
       "         -0.03491751,  0.04628873]]], dtype=float32)"
      ]
     },
     "execution_count": 15,
     "metadata": {},
     "output_type": "execute_result"
    }
   ],
   "source": [
    "# Checking the vector representation \n",
    "model.predict(embedded_docs)  # Predicting the embedding for the first sentence)"
   ]
  },
  {
   "cell_type": "code",
   "execution_count": 16,
   "id": "c4981770",
   "metadata": {},
   "outputs": [
    {
     "name": "stdout",
     "output_type": "stream",
     "text": [
      "\u001b[1m1/1\u001b[0m \u001b[32m━━━━━━━━━━━━━━━━━━━━\u001b[0m\u001b[37m\u001b[0m \u001b[1m0s\u001b[0m 70ms/step\n"
     ]
    },
    {
     "data": {
      "text/plain": [
       "array([ 0.00827418,  0.04490118,  0.00658356, -0.02933114,  0.00283289,\n",
       "        0.04276994,  0.00647979,  0.01986936,  0.03089459,  0.01822174,\n",
       "        0.00323766, -0.03265851,  0.04511983, -0.02386363], dtype=float32)"
      ]
     },
     "execution_count": 16,
     "metadata": {},
     "output_type": "execute_result"
    }
   ],
   "source": [
    "# vector representation of the first sentence\n",
    "model.predict(embedded_docs[0].reshape(1, -1))[0][0]"
   ]
  },
  {
   "cell_type": "code",
   "execution_count": 17,
   "id": "e45f8be6",
   "metadata": {},
   "outputs": [
    {
     "data": {
      "text/plain": [
       "array([[   0,    0,    0,    0, 7087, 3752, 7397, 4716, 4573, 3262, 7087,\n",
       "        8214,  393]])"
      ]
     },
     "execution_count": 17,
     "metadata": {},
     "output_type": "execute_result"
    }
   ],
   "source": [
    "embedded_docs[0].reshape(1, -1)"
   ]
  },
  {
   "cell_type": "code",
   "execution_count": null,
   "id": "163e8a1f",
   "metadata": {},
   "outputs": [],
   "source": []
  },
  {
   "cell_type": "code",
   "execution_count": null,
   "id": "7df22042",
   "metadata": {},
   "outputs": [],
   "source": [
    "\n",
    "\n",
    "\n",
    "\n",
    "\n",
    "\n",
    "\n",
    "\n",
    "\n",
    "\n",
    "\n",
    "\n",
    "\n",
    "\n",
    "\n",
    "\n",
    "\n",
    "\n",
    "\n",
    "\n",
    "\n",
    "\n",
    "\n",
    "\n",
    "\n",
    "\n",
    "\n",
    "\n",
    "\n",
    "\n",
    "\n"
   ]
  }
 ],
 "metadata": {
  "kernelspec": {
   "display_name": "Python 3",
   "language": "python",
   "name": "python3"
  },
  "language_info": {
   "codemirror_mode": {
    "name": "ipython",
    "version": 3
   },
   "file_extension": ".py",
   "mimetype": "text/x-python",
   "name": "python",
   "nbconvert_exporter": "python",
   "pygments_lexer": "ipython3",
   "version": "3.11.8"
  }
 },
 "nbformat": 4,
 "nbformat_minor": 5
}
