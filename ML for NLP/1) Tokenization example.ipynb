{
 "cells": [
  {
   "cell_type": "code",
   "execution_count": 2,
   "id": "e36bcd38-b8de-44ea-b717-88b714145502",
   "metadata": {},
   "outputs": [],
   "source": [
    "corpus = \"\"\"Ram like to drink the apple juice.\n",
    "Shaym like to drink the mango juice!.\n",
    "Rani like to drink the orange's juice.\n",
    "\"\"\""
   ]
  },
  {
   "cell_type": "code",
   "execution_count": 20,
   "id": "12189580-6ee6-4e91-a4cd-506844d865ee",
   "metadata": {},
   "outputs": [
    {
     "name": "stdout",
     "output_type": "stream",
     "text": [
      "Ram like to drink the apple juice.\n",
      "Shaym like to drink the mango juice!.\n",
      "Rani like to drink the orange's juice.\n",
      "\n"
     ]
    }
   ],
   "source": [
    "print(corpus)"
   ]
  },
  {
   "cell_type": "markdown",
   "id": "db3f488e-8512-4b44-bf7b-53466d0994bd",
   "metadata": {},
   "source": [
    "# Tokenization\n",
    "## Paragraph to sentence"
   ]
  },
  {
   "cell_type": "code",
   "execution_count": 21,
   "id": "167e3612-2ea3-4e74-b291-7f764c4081fb",
   "metadata": {},
   "outputs": [],
   "source": [
    "from nltk.tokenize import sent_tokenize\n",
    "docs = sent_tokenize(corpus)"
   ]
  },
  {
   "cell_type": "code",
   "execution_count": 22,
   "id": "63a31b21-0191-478a-ac8a-2085b77c4384",
   "metadata": {},
   "outputs": [
    {
     "data": {
      "text/plain": [
       "['Ram like to drink the apple juice.',\n",
       " 'Shaym like to drink the mango juice!.',\n",
       " \"Rani like to drink the orange's juice.\"]"
      ]
     },
     "execution_count": 22,
     "metadata": {},
     "output_type": "execute_result"
    }
   ],
   "source": [
    "docs    "
   ]
  },
  {
   "cell_type": "markdown",
   "id": "bdb90c14-1f16-4a84-8240-09296265dd50",
   "metadata": {},
   "source": [
    "## Paragraph to words\n",
    "## sentences to words "
   ]
  },
  {
   "cell_type": "code",
   "execution_count": 23,
   "id": "170b8ce9-e613-4d26-86dd-1e06940220f8",
   "metadata": {},
   "outputs": [
    {
     "data": {
      "text/plain": [
       "['Ram',\n",
       " 'like',\n",
       " 'to',\n",
       " 'drink',\n",
       " 'the',\n",
       " 'apple',\n",
       " 'juice',\n",
       " '.',\n",
       " 'Shaym',\n",
       " 'like',\n",
       " 'to',\n",
       " 'drink',\n",
       " 'the',\n",
       " 'mango',\n",
       " 'juice',\n",
       " '!',\n",
       " '.',\n",
       " 'Rani',\n",
       " 'like',\n",
       " 'to',\n",
       " 'drink',\n",
       " 'the',\n",
       " 'orange',\n",
       " \"'s\",\n",
       " 'juice',\n",
       " '.']"
      ]
     },
     "execution_count": 23,
     "metadata": {},
     "output_type": "execute_result"
    }
   ],
   "source": [
    "from nltk.tokenize import word_tokenize\n",
    "word_tokenize(corpus)"
   ]
  },
  {
   "cell_type": "code",
   "execution_count": 24,
   "id": "80fdf223-88ff-4436-bfb3-ce696485cdbc",
   "metadata": {},
   "outputs": [
    {
     "name": "stdout",
     "output_type": "stream",
     "text": [
      "['Ram', 'like', 'to', 'drink', 'the', 'apple', 'juice', '.']\n",
      "['Shaym', 'like', 'to', 'drink', 'the', 'mango', 'juice', '!', '.']\n",
      "['Rani', 'like', 'to', 'drink', 'the', 'orange', \"'s\", 'juice', '.']\n"
     ]
    }
   ],
   "source": [
    "for sentence in docs:\n",
    "    print(word_tokenize(sentence))"
   ]
  },
  {
   "cell_type": "markdown",
   "id": "2fc9f038-feaf-4694-8c49-12504788f088",
   "metadata": {},
   "source": [
    "# using TreebankWordTokenizer tokenizer"
   ]
  },
  {
   "cell_type": "code",
   "execution_count": null,
   "id": "23259df0-80c1-4418-924d-8996a2f4d7a6",
   "metadata": {},
   "outputs": [
    {
     "data": {
      "text/plain": [
       "['Ram',\n",
       " 'like',\n",
       " 'to',\n",
       " 'drink',\n",
       " 'the',\n",
       " 'apple',\n",
       " 'juice.',\n",
       " 'Shaym',\n",
       " 'like',\n",
       " 'to',\n",
       " 'drink',\n",
       " 'the',\n",
       " 'mango',\n",
       " 'juice',\n",
       " '!',\n",
       " '.',\n",
       " 'Rani',\n",
       " 'like',\n",
       " 'to',\n",
       " 'drink',\n",
       " 'the',\n",
       " 'orange',\n",
       " \"'s\",\n",
       " 'juice',\n",
       " '.']"
      ]
     },
     "execution_count": 25,
     "metadata": {},
     "output_type": "execute_result"
    }
   ],
   "source": [
    "# we use TreebankWordTokenizer to tokenize the corpus\n",
    "# This tokenizer is more sophisticated and handles punctuation better than the basic word_tokenize\n",
    "from nltk.tokenize import TreebankWordTokenizer \n",
    "tokenizer = TreebankWordTokenizer()\n",
    "tokenizer.tokenize(corpus)"
   ]
  },
  {
   "cell_type": "markdown",
   "id": "a4ff4690",
   "metadata": {},
   "source": [
    "# ToktokTokenizer"
   ]
  },
  {
   "cell_type": "code",
   "execution_count": null,
   "id": "6517bbf3-7d00-44b1-8f6d-61cda2b7a96f",
   "metadata": {},
   "outputs": [
    {
     "data": {
      "text/plain": [
       "['He',\n",
       " 'said',\n",
       " ',',\n",
       " '“',\n",
       " 'I',\n",
       " '’',\n",
       " 'll',\n",
       " 'be',\n",
       " 'there',\n",
       " 'at',\n",
       " '5',\n",
       " ':',\n",
       " '30',\n",
       " 'p.m.',\n",
       " '—',\n",
       " 'don',\n",
       " '’',\n",
       " 't',\n",
       " 'wait',\n",
       " '!',\n",
       " '”',\n",
       " 'Can',\n",
       " '’',\n",
       " 't',\n",
       " 'believe',\n",
       " 'she',\n",
       " 'replied',\n",
       " ',',\n",
       " '“',\n",
       " 'Cool',\n",
       " '…',\n",
       " 'see',\n",
       " 'you',\n",
       " 'then.',\n",
       " '”',\n",
       " 'They',\n",
       " '’',\n",
       " 've',\n",
       " 'planned',\n",
       " 'everything',\n",
       " '—',\n",
       " 'flights',\n",
       " ',',\n",
       " 'hotels',\n",
       " ',',\n",
       " 'etc.',\n",
       " 'Isn',\n",
       " '’',\n",
       " 't',\n",
       " 'it',\n",
       " 'amazing',\n",
       " '?',\n",
       " 'Let',\n",
       " '’',\n",
       " 's',\n",
       " 'hope',\n",
       " 'it',\n",
       " 'all',\n",
       " 'works',\n",
       " 'out',\n",
       " '!']"
      ]
     },
     "execution_count": 14,
     "metadata": {},
     "output_type": "execute_result"
    }
   ],
   "source": [
    "# We can also use the ToktokTokenizer, which is a tokenizer that is designed to handle various types of text, including those with contractions and special characters.\n",
    "# It is particularly useful for tokenizing text in a more flexible way.\n",
    "# The ToktokTokenizer from NLTK is a simple and fast tokenizer that's mostly punctuation-aware and tries to mimic Penn Treebank-style tokenization. \n",
    "# It does a decent job with basic text, contractions, and punctuation but doesn’t handle as many edge cases as more advanced tokenizers.\n",
    "\n",
    "from nltk.tokenize import ToktokTokenizer\n",
    "tok = ToktokTokenizer()\n",
    "tok.tokenize(\"\"\"\n",
    "He said, “I’ll be there at 5:30 p.m.—don’t wait!”\n",
    "Can’t believe she replied, “Cool… see you then.”\n",
    "They’ve planned everything—flights, hotels, etc.\n",
    "Isn’t it amazing? Let’s hope it all works out!\n",
    "\"\"\")\n"
   ]
  },
  {
   "cell_type": "markdown",
   "id": "b792ccf2",
   "metadata": {},
   "source": [
    "# TweetTokenizer"
   ]
  },
  {
   "cell_type": "code",
   "execution_count": 12,
   "id": "ae90ebd9",
   "metadata": {},
   "outputs": [
    {
     "data": {
      "text/plain": [
       "['Just',\n",
       " 'launched',\n",
       " 'our',\n",
       " 'new',\n",
       " 'NLP',\n",
       " 'model',\n",
       " '!',\n",
       " '🚀',\n",
       " 'It',\n",
       " '’',\n",
       " 's',\n",
       " 'faster',\n",
       " ',',\n",
       " 'smarter',\n",
       " ',',\n",
       " '&',\n",
       " 'open-source',\n",
       " '.',\n",
       " 'Check',\n",
       " 'it',\n",
       " 'out',\n",
       " 'here',\n",
       " ':',\n",
       " 'https://nlp.ai/demo',\n",
       " 'Thoughts',\n",
       " '?',\n",
       " 'Drop',\n",
       " 'a',\n",
       " 'comment',\n",
       " 'below',\n",
       " '!',\n",
       " '@OpenAI',\n",
       " '#AI',\n",
       " '#NLP',\n",
       " '#MachineLearning']"
      ]
     },
     "execution_count": 12,
     "metadata": {},
     "output_type": "execute_result"
    }
   ],
   "source": [
    "# We can also use the TweetTokenizer, which is specifically designed for tokenizing tweets and other informal text.\n",
    "# It handles hashtags, mentions, and other special characters commonly found in social media text.\n",
    "# The TweetTokenizer is part of the NLTK library and can be used to tokenize tweets and other informal text.\n",
    "from nltk.tokenize import TweetTokenizer\n",
    "str = TweetTokenizer()\n",
    "str.tokenize(\"\"\"\n",
    "Just launched our new NLP model! 🚀\n",
    "It’s faster, smarter, & open-source.\n",
    "Check it out here: https://nlp.ai/demo\n",
    "Thoughts? Drop a comment below! @OpenAI #AI #NLP #MachineLearning\n",
    "\"\"\")\n"
   ]
  },
  {
   "cell_type": "code",
   "execution_count": 10,
   "id": "530b1328",
   "metadata": {},
   "outputs": [
    {
     "data": {
      "text/plain": [
       "[['This'], ['is'], ['a'], ['won', 'der', 'ful'], ['sen', 'ten', 'ce'], ['.']]"
      ]
     },
     "execution_count": 10,
     "metadata": {},
     "output_type": "execute_result"
    }
   ],
   "source": [
    "# We can also use the LegalitySyllableTokenizer, which is a tokenizer that is designed to handle syllables in words.\n",
    "# It is particularly useful for tokenizing text in a more flexible way, especially for languages that have syllable-based writing systems.\n",
    "\n",
    "from nltk.tokenize import LegalitySyllableTokenizer\n",
    "from nltk.tokenize import word_tokenize\n",
    "from nltk.corpus import words\n",
    "text = \"This is a wonderful sentence.\"\n",
    "text_Words = word_tokenize(text)\n",
    "LP = LegalitySyllableTokenizer(words.words())\n",
    "[LP.tokenize(word) for word in text_Words]"
   ]
  },
  {
   "cell_type": "code",
   "execution_count": null,
   "id": "7969c2b2",
   "metadata": {},
   "outputs": [
    {
     "data": {
      "text/plain": [
       "['A',\n",
       " 'a',\n",
       " 'aa',\n",
       " 'aal',\n",
       " 'aalii',\n",
       " 'aam',\n",
       " 'Aani',\n",
       " 'aardvark',\n",
       " 'aardwolf',\n",
       " 'Aaron']"
      ]
     },
     "execution_count": 14,
     "metadata": {},
     "output_type": "execute_result"
    }
   ],
   "source": [
    "# displaying the first 10 words from the NLTK words corpus\n",
    "words.words()[:10]"
   ]
  },
  {
   "cell_type": "code",
   "execution_count": 17,
   "id": "34859403",
   "metadata": {},
   "outputs": [
    {
     "name": "stdout",
     "output_type": "stream",
     "text": [
      "<nltk.tokenize.legality_principle.LegalitySyllableTokenizer object at 0x0000029A1B5EC170>\n"
     ]
    }
   ],
   "source": [
    "print(LP)"
   ]
  },
  {
   "cell_type": "code",
   "execution_count": null,
   "id": "e35c3a2d",
   "metadata": {},
   "outputs": [],
   "source": []
  }
 ],
 "metadata": {
  "kernelspec": {
   "display_name": "base",
   "language": "python",
   "name": "python3"
  },
  "language_info": {
   "codemirror_mode": {
    "name": "ipython",
    "version": 3
   },
   "file_extension": ".py",
   "mimetype": "text/x-python",
   "name": "python",
   "nbconvert_exporter": "python",
   "pygments_lexer": "ipython3",
   "version": "3.12.7"
  }
 },
 "nbformat": 4,
 "nbformat_minor": 5
}
