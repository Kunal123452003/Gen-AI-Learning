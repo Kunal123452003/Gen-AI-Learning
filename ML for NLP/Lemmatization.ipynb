{
 "cells": [
  {
   "cell_type": "markdown",
   "id": "3fcd2171",
   "metadata": {},
   "source": [
    "# Lemmatization"
   ]
  },
  {
   "cell_type": "code",
   "execution_count": 1,
   "id": "226d8446",
   "metadata": {},
   "outputs": [],
   "source": [
    "words = [\"playing\",\"played\",\n",
    "\"player\",\"happiness\",\"unhappy\",\"studies\",\"studying\",\n",
    "\"quickly\",\"running\",\"runner\",\"better\",\"flying\",\"flies\"]"
   ]
  },
  {
   "cell_type": "code",
   "execution_count": 5,
   "id": "2c406c41",
   "metadata": {},
   "outputs": [
    {
     "name": "stdout",
     "output_type": "stream",
     "text": [
      "playing -> playing\n",
      "played -> played\n",
      "player -> player\n",
      "happiness -> happiness\n",
      "unhappy -> unhappy\n",
      "studies -> study\n",
      "studying -> studying\n",
      "quickly -> quickly\n",
      "running -> running\n",
      "runner -> runner\n",
      "better -> better\n",
      "flying -> flying\n",
      "flies -> fly\n"
     ]
    }
   ],
   "source": [
    "from nltk.stem import WordNetLemmatizer\n",
    "lem = WordNetLemmatizer()\n",
    "for word in words:\n",
    "    print(f\"{word} -> {lem.lemmatize(word)}\")\n"
   ]
  },
  {
   "cell_type": "code",
   "execution_count": null,
   "id": "f110ccc9",
   "metadata": {},
   "outputs": [],
   "source": []
  },
  {
   "cell_type": "code",
   "execution_count": null,
   "id": "644b7fc8",
   "metadata": {},
   "outputs": [],
   "source": []
  }
 ],
 "metadata": {
  "kernelspec": {
   "display_name": "base",
   "language": "python",
   "name": "python3"
  },
  "language_info": {
   "codemirror_mode": {
    "name": "ipython",
    "version": 3
   },
   "file_extension": ".py",
   "mimetype": "text/x-python",
   "name": "python",
   "nbconvert_exporter": "python",
   "pygments_lexer": "ipython3",
   "version": "3.12.7"
  }
 },
 "nbformat": 4,
 "nbformat_minor": 5
}
