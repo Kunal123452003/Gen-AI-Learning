{
 "cells": [
  {
   "cell_type": "markdown",
   "id": "3fcd2171",
   "metadata": {},
   "source": [
    "# Lemmatization"
   ]
  },
  {
   "cell_type": "markdown",
   "id": "1063e16f",
   "metadata": {},
   "source": [
    "#### Lemmatization is the process of reducing a word to its base or dictionary form, called a lemma, while considering its context and part of speech (POS). Unlike stemming, lemmatization always returns real words."
   ]
  },
  {
   "cell_type": "code",
   "execution_count": 9,
   "id": "226d8446",
   "metadata": {},
   "outputs": [],
   "source": [
    "words = [\"playing\",\"played\",\n",
    "\"player\",\"happiness\",\"unhappy\",\"studies\",\"studying\",\n",
    "\"quickly\",\"running\",\"runner\",\"better\",\"flying\",\"flies\",\"history\"]"
   ]
  },
  {
   "cell_type": "markdown",
   "id": "71ce484b",
   "metadata": {},
   "source": [
    "### NLTK provide the access to the WordNet database"
   ]
  },
  {
   "cell_type": "code",
   "execution_count": 10,
   "id": "2c406c41",
   "metadata": {},
   "outputs": [
    {
     "name": "stdout",
     "output_type": "stream",
     "text": [
      "playing -----> play\n",
      "played -----> play\n",
      "player -----> player\n",
      "happiness -----> happiness\n",
      "unhappy -----> unhappy\n",
      "studies -----> study\n",
      "studying -----> study\n",
      "quickly -----> quickly\n",
      "running -----> run\n",
      "runner -----> runner\n",
      "better -----> better\n",
      "flying -----> fly\n",
      "flies -----> fly\n",
      "history -----> history\n"
     ]
    }
   ],
   "source": [
    "from nltk.stem import WordNetLemmatizer\n",
    "lem = WordNetLemmatizer()\n",
    "for word in words:\n",
    "    print(f\"{word} -----> {lem.lemmatize(word, pos='v')}\")\n"
   ]
  },
  {
   "cell_type": "code",
   "execution_count": null,
   "id": "f110ccc9",
   "metadata": {},
   "outputs": [],
   "source": [
    "# parameter in lem.lemmatize() are word and pos (part of speech)\n",
    "# word : it is the word to be lemmatized \n",
    "# pos : it specify what the word which is to be lemmatized is \n",
    "# there are different pos tags such as ,\n",
    "# Noun - n (Default)\n",
    "# verb - v\n",
    "# adjective - a\n",
    "# adverb - r  "
   ]
  },
  {
   "cell_type": "code",
   "execution_count": null,
   "id": "644b7fc8",
   "metadata": {},
   "outputs": [],
   "source": []
  }
 ],
 "metadata": {
  "kernelspec": {
   "display_name": "Python 3 (ipykernel)",
   "language": "python",
   "name": "python3"
  }
 },
 "nbformat": 4,
 "nbformat_minor": 5
}
