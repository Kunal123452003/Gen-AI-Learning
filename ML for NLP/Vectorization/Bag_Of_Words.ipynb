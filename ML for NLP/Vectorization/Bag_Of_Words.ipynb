{
 "cells": [
  {
   "cell_type": "markdown",
   "id": "038fe72d",
   "metadata": {},
   "source": [
    "# Bag Of Word"
   ]
  },
  {
   "cell_type": "markdown",
   "id": "e4b50031",
   "metadata": {},
   "source": [
    "#### Bag of Words (BoW) is a text representation technique used in Natural Language Processing (NLP) and Machine Learning where:\n",
    "#### 1) Each document (sentence or text) is represented by a vector of word counts.\n",
    "#### 2) It ignores grammar and word order, but keeps multiplicity (frequency of words).\n",
    "\n"
   ]
  },
  {
   "cell_type": "markdown",
   "id": "7f556844",
   "metadata": {},
   "source": [
    "## Working"
   ]
  },
  {
   "cell_type": "code",
   "execution_count": null,
   "id": "bbf5f3bf",
   "metadata": {},
   "outputs": [],
   "source": [
    "\"\"\"\n",
    "EXAMPLE DATA:\n",
    "Text                          Output\n",
    "1. He is a good boy             1               \n",
    "2. She is a good girl           1             \n",
    "3. Boy and girl are good        1\n",
    "\n",
    "we will remove the stop words then our dataset would be like this \n",
    "1. good boy\n",
    "2. good girl\n",
    "3. boy girl good\n",
    "\n",
    "now will make a table of words and their frequency(no of times the word appear) and arrange them in descending order, this will also represent the unique words vocabulary\n",
    "WORD   FREQUENCY\n",
    "good       3\n",
    "boy        2\n",
    "girl       2\n",
    "\n",
    "and also we may not choose all the words lets say we have 100 words but some of them have frequency of 1 or 2 then we may only use top 20 or 30 words as encoding  (as columns of new dataset) \n",
    "\n",
    "Now we will make the encoding of each word as 0 and 1 so dataset will look like this\n",
    "    good    boy     girl      Output\n",
    "1.    1      1        0         1\n",
    "2.    1      0        1         1\n",
    "3.    1      1        1         1\n",
    "\n",
    "there are 2 types of BOW : 1) binary BOW (above) 2) normal BOW (ex below)\n",
    "lets say in 2nd sentence the word \"good\" appear 2 time like \" good girl good \"\n",
    "then in dataset in 2nd line sentence the count of good will be 2, so the dataset will look like this\n",
    "    good       boy     girl      Output\n",
    "1.    1         1        0         1\n",
    "2.    2  <--    0        1         1     \n",
    "3.    1         1        1         1\n",
    "\n",
    "\"\"\""
   ]
  },
  {
   "cell_type": "markdown",
   "id": "38386775",
   "metadata": {},
   "source": [
    "## Advantage"
   ]
  },
  {
   "cell_type": "code",
   "execution_count": null,
   "id": "29ec69e4",
   "metadata": {},
   "outputs": [],
   "source": [
    "1) simple and intitutive \n",
    "2) Fixed length of vector"
   ]
  },
  {
   "cell_type": "markdown",
   "id": "f39f1feb",
   "metadata": {},
   "source": [
    "## Diadvantage"
   ]
  },
  {
   "cell_type": "markdown",
   "id": "a891d3b2",
   "metadata": {},
   "source": [
    "1) Spare matrix(0's and 1's matix which is the vector of the word) is also made here which can lead to Overfitting\n",
    "2) Order of the words change as we select the top 20 or 30 words in decesending order so because of this the order of the word changes and sementic meaning of the sentence change\n",
    "3) It also can't handle Out of vocabulary word\n",
    "4) Sementic meaning of the sentence is not captured i.e  \"Good boy bad girl\" means same as \"bad boy good girl\""
   ]
  }
 ],
 "metadata": {
  "kernelspec": {
   "display_name": "Python 3 (ipykernel)",
   "language": "python",
   "name": "python3"
  }
 },
 "nbformat": 4,
 "nbformat_minor": 5
}
