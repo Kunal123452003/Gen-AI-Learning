{
 "cells": [
  {
   "cell_type": "code",
   "execution_count": 19,
   "id": "e36bcd38-b8de-44ea-b717-88b714145502",
   "metadata": {},
   "outputs": [],
   "source": [
    "corpus = \"\"\"Ram like to drink the apple juice.\n",
    "Shaym like to drink the mango juice!.\n",
    "Rani like to drink the orange's juice.\n",
    "\"\"\""
   ]
  },
  {
   "cell_type": "code",
   "execution_count": 20,
   "id": "12189580-6ee6-4e91-a4cd-506844d865ee",
   "metadata": {},
   "outputs": [
    {
     "name": "stdout",
     "output_type": "stream",
     "text": [
      "Ram like to drink the apple juice.\n",
      "Shaym like to drink the mango juice!.\n",
      "Rani like to drink the orange's juice.\n",
      "\n"
     ]
    }
   ],
   "source": [
    "print(corpus)"
   ]
  },
  {
   "cell_type": "markdown",
   "id": "db3f488e-8512-4b44-bf7b-53466d0994bd",
   "metadata": {},
   "source": [
    "# Tokenization\n",
    "## Paragraph to sentence"
   ]
  },
  {
   "cell_type": "code",
   "execution_count": 21,
   "id": "167e3612-2ea3-4e74-b291-7f764c4081fb",
   "metadata": {},
   "outputs": [],
   "source": [
    "from nltk.tokenize import sent_tokenize\n",
    "docs = sent_tokenize(corpus)"
   ]
  },
  {
   "cell_type": "code",
   "execution_count": 22,
   "id": "63a31b21-0191-478a-ac8a-2085b77c4384",
   "metadata": {},
   "outputs": [
    {
     "data": {
      "text/plain": [
       "['Ram like to drink the apple juice.',\n",
       " 'Shaym like to drink the mango juice!.',\n",
       " \"Rani like to drink the orange's juice.\"]"
      ]
     },
     "execution_count": 22,
     "metadata": {},
     "output_type": "execute_result"
    }
   ],
   "source": [
    "docs    "
   ]
  },
  {
   "cell_type": "markdown",
   "id": "bdb90c14-1f16-4a84-8240-09296265dd50",
   "metadata": {},
   "source": [
    "## Paragraph to words\n",
    "## sentences to words "
   ]
  },
  {
   "cell_type": "code",
   "execution_count": 23,
   "id": "170b8ce9-e613-4d26-86dd-1e06940220f8",
   "metadata": {},
   "outputs": [
    {
     "data": {
      "text/plain": [
       "['Ram',\n",
       " 'like',\n",
       " 'to',\n",
       " 'drink',\n",
       " 'the',\n",
       " 'apple',\n",
       " 'juice',\n",
       " '.',\n",
       " 'Shaym',\n",
       " 'like',\n",
       " 'to',\n",
       " 'drink',\n",
       " 'the',\n",
       " 'mango',\n",
       " 'juice',\n",
       " '!',\n",
       " '.',\n",
       " 'Rani',\n",
       " 'like',\n",
       " 'to',\n",
       " 'drink',\n",
       " 'the',\n",
       " 'orange',\n",
       " \"'s\",\n",
       " 'juice',\n",
       " '.']"
      ]
     },
     "execution_count": 23,
     "metadata": {},
     "output_type": "execute_result"
    }
   ],
   "source": [
    "from nltk.tokenize import word_tokenize\n",
    "word_tokenize(corpus)"
   ]
  },
  {
   "cell_type": "code",
   "execution_count": 24,
   "id": "80fdf223-88ff-4436-bfb3-ce696485cdbc",
   "metadata": {},
   "outputs": [
    {
     "name": "stdout",
     "output_type": "stream",
     "text": [
      "['Ram', 'like', 'to', 'drink', 'the', 'apple', 'juice', '.']\n",
      "['Shaym', 'like', 'to', 'drink', 'the', 'mango', 'juice', '!', '.']\n",
      "['Rani', 'like', 'to', 'drink', 'the', 'orange', \"'s\", 'juice', '.']\n"
     ]
    }
   ],
   "source": [
    "for sentence in docs:\n",
    "    print(word_tokenize(sentence))"
   ]
  },
  {
   "cell_type": "markdown",
   "id": "2fc9f038-feaf-4694-8c49-12504788f088",
   "metadata": {},
   "source": [
    "# using TreebankWordTokenizer tokenizer"
   ]
  },
  {
   "cell_type": "code",
   "execution_count": null,
   "id": "23259df0-80c1-4418-924d-8996a2f4d7a6",
   "metadata": {},
   "outputs": [
    {
     "data": {
      "text/plain": [
       "['Ram',\n",
       " 'like',\n",
       " 'to',\n",
       " 'drink',\n",
       " 'the',\n",
       " 'apple',\n",
       " 'juice.',\n",
       " 'Shaym',\n",
       " 'like',\n",
       " 'to',\n",
       " 'drink',\n",
       " 'the',\n",
       " 'mango',\n",
       " 'juice',\n",
       " '!',\n",
       " '.',\n",
       " 'Rani',\n",
       " 'like',\n",
       " 'to',\n",
       " 'drink',\n",
       " 'the',\n",
       " 'orange',\n",
       " \"'s\",\n",
       " 'juice',\n",
       " '.']"
      ]
     },
     "execution_count": 25,
     "metadata": {},
     "output_type": "execute_result"
    }
   ],
   "source": [
    "# we use TreebankWordTokenizer to tokenize the corpus\n",
    "# This tokenizer is more sophisticated and handles punctuation better than the basic word_tokenize\n",
    "from nltk.tokenize import TreebankWordTokenizer\n",
    "tokenizer = TreebankWordTokenizer()\n",
    "tokenizer.tokenize(corpus)"
   ]
  },
  {
   "cell_type": "code",
   "execution_count": null,
   "id": "6517bbf3-7d00-44b1-8f6d-61cda2b7a96f",
   "metadata": {},
   "outputs": [],
   "source": []
  }
 ],
 "metadata": {
  "kernelspec": {
   "display_name": "Python 3 (ipykernel)",
   "language": "python",
   "name": "python3"
  },
  "language_info": {
   "codemirror_mode": {
    "name": "ipython",
    "version": 3
   },
   "file_extension": ".py",
   "mimetype": "text/x-python",
   "name": "python",
   "nbconvert_exporter": "python",
   "pygments_lexer": "ipython3",
   "version": "3.13.4"
  }
 },
 "nbformat": 4,
 "nbformat_minor": 5
}
