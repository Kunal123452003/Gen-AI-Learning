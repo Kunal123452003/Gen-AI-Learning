{
 "cells": [
  {
   "cell_type": "markdown",
   "id": "8e6ab5cb",
   "metadata": {},
   "source": [
    "# Stemming"
   ]
  },
  {
   "cell_type": "markdown",
   "id": "efd6f171",
   "metadata": {},
   "source": [
    "#### Stemming is the process of reducing a word to its root or base form by chopping off prefixes or suffixes. It's a common technique used in Natural Language Processing (NLP) and Information Retrieval to treat related words as the same word."
   ]
  },
  {
   "cell_type": "code",
   "execution_count": null,
   "id": "329a4d60",
   "metadata": {},
   "outputs": [],
   "source": [
    "words = [\"playing\",\"played\",\n",
    "\"player\",\"happiness\",\"unhappy\",\"studies\",\"studying\",\n",
    "\"quickly\",\"running\",\"runner\",\"better\",\"flying\",\"flies\"]"
   ]
  },
  {
   "cell_type": "markdown",
   "id": "c820cbe8",
   "metadata": {},
   "source": [
    "## PorterStemmer"
   ]
  },
  {
   "cell_type": "code",
   "execution_count": 6,
   "id": "c3e4174b",
   "metadata": {},
   "outputs": [
    {
     "name": "stdout",
     "output_type": "stream",
     "text": [
      "playing ---> play\n",
      "played ---> play\n",
      "player ---> player\n",
      "happiness ---> happi\n",
      "unhappy ---> unhappi\n",
      "studies ---> studi\n",
      "studying ---> studi\n",
      "quickly ---> quickli\n",
      "running ---> run\n",
      "runner ---> runner\n",
      "better ---> better\n",
      "flying ---> fli\n",
      "flies ---> fli\n",
      "denied ---> deni\n",
      "denying ---> deni\n",
      "organization ---> organ\n",
      "organizational ---> organiz\n",
      "caring ---> care\n",
      "cared ---> care\n",
      "hoping ---> hope\n"
     ]
    }
   ],
   "source": [
    "from nltk.stem import PorterStemmer\n",
    "stemmer = PorterStemmer()\n",
    "for word in words:\n",
    "    print(f\"{word} ---> {stemmer.stem(word)}\")"
   ]
  },
  {
   "cell_type": "code",
   "execution_count": null,
   "id": "20743da9",
   "metadata": {},
   "outputs": [],
   "source": [
    "# some disadvantage of stemming is tha it can produce words that are not real words\n",
    "# for example, \"playing\" becomes \"play\" which is fine, but \"happiness\" becomes \"happi\"\n",
    "# which is not a real word. This can lead to confusion in some applications.\n",
    "# However, stemming is often used in information retrieval and natural language processing tasks\n",
    "# where the exact form of the word is less important than its root meaning."
   ]
  },
  {
   "cell_type": "markdown",
   "id": "bad8705e",
   "metadata": {},
   "source": [
    "## RegexpStemmer"
   ]
  },
  {
   "cell_type": "markdown",
   "id": "9e06345d",
   "metadata": {},
   "source": [
    "#### The RegexpStemmer (Regular Expression Stemmer) in NLTK is a rule-based stemmer that removes suffixes from words using regular expressions. It's customizable, meaning you define your own stripping rules — making it lightweight and flexible for simple stemming tasks."
   ]
  },
  {
   "cell_type": "code",
   "execution_count": 10,
   "id": "f3c4857c",
   "metadata": {},
   "outputs": [
    {
     "name": "stdout",
     "output_type": "stream",
     "text": [
      "playing ---> play\n",
      "played ---> play\n",
      "player ---> player\n",
      "happiness ---> happi\n",
      "unhappy ---> unhappy\n",
      "studies ---> studi\n",
      "studying ---> study\n",
      "quickly ---> quick\n",
      "running ---> runn\n",
      "runner ---> runner\n",
      "better ---> better\n",
      "flying ---> fly\n",
      "flies ---> fli\n",
      "denied ---> deni\n",
      "denying ---> deny\n",
      "organization ---> organization\n",
      "organizational ---> organization\n",
      "caring ---> car\n",
      "cared ---> car\n",
      "hoping ---> hop\n"
     ]
    }
   ],
   "source": [
    "from nltk.stem import RegexpStemmer\n",
    "regexpstemmer = RegexpStemmer(regexp='ing$|ed$|es$|s$|ness$|ly$|al$',min=4)\n",
    "for word in words:\n",
    "    print(f\"{word} ---> {regexpstemmer.stem(word)}\")"
   ]
  },
  {
   "cell_type": "markdown",
   "id": "a9cf8647",
   "metadata": {},
   "source": [
    "## SnowballStemmer"
   ]
  },
  {
   "cell_type": "markdown",
   "id": "e81f4f4c",
   "metadata": {},
   "source": [
    "#### The Snowball Stemmer is a more advanced and improved version of the original Porter Stemmer. It’s also known as Porter2. It is more consistent, supports multiple languages, and is generally less aggressive than the Lancaster stemmer, making it ideal for most NLP tasks where meaningful root words are desired."
   ]
  },
  {
   "cell_type": "code",
   "execution_count": 12,
   "id": "86a1f013",
   "metadata": {},
   "outputs": [
    {
     "name": "stdout",
     "output_type": "stream",
     "text": [
      "playing ---> play\n",
      "played ---> play\n",
      "player ---> player\n",
      "happiness ---> happi\n",
      "unhappy ---> unhappi\n",
      "studies ---> studi\n",
      "studying ---> studi\n",
      "quickly ---> quick\n",
      "running ---> run\n",
      "runner ---> runner\n",
      "better ---> better\n",
      "flying ---> fli\n",
      "flies ---> fli\n",
      "denied ---> deni\n",
      "denying ---> deni\n",
      "organization ---> organ\n",
      "organizational ---> organiz\n",
      "caring ---> care\n",
      "cared ---> care\n",
      "hoping ---> hope\n"
     ]
    }
   ],
   "source": [
    "from nltk.stem import SnowballStemmer\n",
    "snowball_stemmer = SnowballStemmer(language=\"english\")\n",
    "for word in words:\n",
    "    print(f\"{word} ---> {snowball_stemmer.stem(word)}\")"
   ]
  },
  {
   "cell_type": "markdown",
   "id": "a9b51f7c",
   "metadata": {},
   "source": [
    "##### Main disadvantage of most of the stemming algorithms is that they can be too agressive and produce non-real words or words which have no meaning ans sometimes the words meaning gets changed. And that can be solved using Lemmatizatiom"
   ]
  }
 ],
 "metadata": {
  "kernelspec": {
   "display_name": "base",
   "language": "python",
   "name": "python3"
  },
  "language_info": {
   "codemirror_mode": {
    "name": "ipython",
    "version": 3
   },
   "file_extension": ".py",
   "mimetype": "text/x-python",
   "name": "python",
   "nbconvert_exporter": "python",
   "pygments_lexer": "ipython3",
   "version": "3.12.7"
  }
 },
 "nbformat": 4,
 "nbformat_minor": 5
}
